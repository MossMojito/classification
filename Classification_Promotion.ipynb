{
 "cells": [
  {
   "cell_type": "markdown",
   "id": "4cf7d961-dd59-419b-ad55-77482b0da996",
   "metadata": {},
   "source": [
    "# Classification Promotion on sales data"
   ]
  },
  {
   "cell_type": "markdown",
   "id": "63e24ef4-850d-4c37-8d68-d369e06ec7f0",
   "metadata": {},
   "source": [
    "## 1. import package and data"
   ]
  },
  {
   "cell_type": "code",
   "execution_count": 1,
   "id": "e5ceb4b6-0bd6-42f7-b2c1-63747e6b4f6f",
   "metadata": {},
   "outputs": [],
   "source": [
    "import pandas as pd\n",
    "import numpy as np\n",
    "import matplotlib.pyplot as plt\n",
    "import seaborn as sns"
   ]
  },
  {
   "cell_type": "code",
   "execution_count": 2,
   "id": "930da1fe-a576-41d5-8016-344a8b6febaf",
   "metadata": {},
   "outputs": [
    {
     "data": {
      "text/html": [
       "<div>\n",
       "<style scoped>\n",
       "    .dataframe tbody tr th:only-of-type {\n",
       "        vertical-align: middle;\n",
       "    }\n",
       "\n",
       "    .dataframe tbody tr th {\n",
       "        vertical-align: top;\n",
       "    }\n",
       "\n",
       "    .dataframe thead th {\n",
       "        text-align: right;\n",
       "    }\n",
       "</style>\n",
       "<table border=\"1\" class=\"dataframe\">\n",
       "  <thead>\n",
       "    <tr style=\"text-align: right;\">\n",
       "      <th></th>\n",
       "      <th>date</th>\n",
       "      <th>sales_in</th>\n",
       "      <th>stores</th>\n",
       "      <th>pro</th>\n",
       "      <th>pro_npro</th>\n",
       "      <th>offtake</th>\n",
       "    </tr>\n",
       "  </thead>\n",
       "  <tbody>\n",
       "    <tr>\n",
       "      <th>0</th>\n",
       "      <td>7/13/2020</td>\n",
       "      <td>4170</td>\n",
       "      <td>19336</td>\n",
       "      <td>RSP</td>\n",
       "      <td>0</td>\n",
       "      <td>5.5161</td>\n",
       "    </tr>\n",
       "    <tr>\n",
       "      <th>1</th>\n",
       "      <td>7/20/2020</td>\n",
       "      <td>35</td>\n",
       "      <td>21440</td>\n",
       "      <td>2for</td>\n",
       "      <td>1</td>\n",
       "      <td>8.2377</td>\n",
       "    </tr>\n",
       "    <tr>\n",
       "      <th>2</th>\n",
       "      <td>7/27/2020</td>\n",
       "      <td>256</td>\n",
       "      <td>24646</td>\n",
       "      <td>2for</td>\n",
       "      <td>1</td>\n",
       "      <td>11.9070</td>\n",
       "    </tr>\n",
       "    <tr>\n",
       "      <th>3</th>\n",
       "      <td>8/3/2020</td>\n",
       "      <td>756</td>\n",
       "      <td>23780</td>\n",
       "      <td>2for</td>\n",
       "      <td>1</td>\n",
       "      <td>11.1780</td>\n",
       "    </tr>\n",
       "    <tr>\n",
       "      <th>4</th>\n",
       "      <td>8/10/2020</td>\n",
       "      <td>452</td>\n",
       "      <td>23017</td>\n",
       "      <td>2for</td>\n",
       "      <td>1</td>\n",
       "      <td>10.2789</td>\n",
       "    </tr>\n",
       "  </tbody>\n",
       "</table>\n",
       "</div>"
      ],
      "text/plain": [
       "        date  sales_in  stores   pro  pro_npro  offtake\n",
       "0  7/13/2020      4170   19336   RSP         0   5.5161\n",
       "1  7/20/2020        35   21440  2for         1   8.2377\n",
       "2  7/27/2020       256   24646  2for         1  11.9070\n",
       "3   8/3/2020       756   23780  2for         1  11.1780\n",
       "4  8/10/2020       452   23017  2for         1  10.2789"
      ]
     },
     "execution_count": 2,
     "metadata": {},
     "output_type": "execute_result"
    }
   ],
   "source": [
    "train_path = 'classification_pro_train.csv'\n",
    "df_train = pd.read_csv(train_path)\n",
    "\n",
    "df_train.head()"
   ]
  },
  {
   "cell_type": "code",
   "execution_count": 3,
   "id": "b513bae3-0f2f-493c-b6fb-6d65e04677ee",
   "metadata": {},
   "outputs": [
    {
     "name": "stdout",
     "output_type": "stream",
     "text": [
      "<class 'pandas.core.frame.DataFrame'>\n",
      "RangeIndex: 105 entries, 0 to 104\n",
      "Data columns (total 6 columns):\n",
      " #   Column    Non-Null Count  Dtype  \n",
      "---  ------    --------------  -----  \n",
      " 0   date      105 non-null    object \n",
      " 1   sales_in  105 non-null    int64  \n",
      " 2   stores    105 non-null    int64  \n",
      " 3   pro       105 non-null    object \n",
      " 4   pro_npro  105 non-null    int64  \n",
      " 5   offtake   105 non-null    float64\n",
      "dtypes: float64(1), int64(3), object(2)\n",
      "memory usage: 5.0+ KB\n"
     ]
    }
   ],
   "source": [
    "df_train.info()"
   ]
  },
  {
   "cell_type": "code",
   "execution_count": 4,
   "id": "a8f3c3c7-6061-4c6e-95c0-ef86d6f3f0ac",
   "metadata": {},
   "outputs": [
    {
     "name": "stdout",
     "output_type": "stream",
     "text": [
      "(105, 6)\n"
     ]
    }
   ],
   "source": [
    "print(df_train.shape)"
   ]
  },
  {
   "cell_type": "markdown",
   "id": "78140546-592c-4144-8616-aa58e698ac7d",
   "metadata": {},
   "source": [
    "### Basic datafram checking"
   ]
  },
  {
   "cell_type": "code",
   "execution_count": 5,
   "id": "82b42e14-ed69-4902-aec8-bd49e471007a",
   "metadata": {},
   "outputs": [
    {
     "data": {
      "text/plain": [
       "Index(['date', 'sales_in', 'stores', 'pro', 'pro_npro', 'offtake'], dtype='object')"
      ]
     },
     "execution_count": 5,
     "metadata": {},
     "output_type": "execute_result"
    }
   ],
   "source": [
    "df_train.columns "
   ]
  },
  {
   "cell_type": "code",
   "execution_count": 6,
   "id": "bdd6c321-1a80-4faa-a9a3-067bf3bba99d",
   "metadata": {},
   "outputs": [
    {
     "data": {
      "text/plain": [
       "date        0\n",
       "sales_in    0\n",
       "stores      0\n",
       "pro         0\n",
       "pro_npro    0\n",
       "offtake     0\n",
       "dtype: int64"
      ]
     },
     "execution_count": 6,
     "metadata": {},
     "output_type": "execute_result"
    }
   ],
   "source": [
    "df_train.isnull().sum()"
   ]
  },
  {
   "cell_type": "markdown",
   "id": "b1938f8d-d033-4271-9fde-8f4984c4c0c1",
   "metadata": {},
   "source": [
    "### Deal with date"
   ]
  },
  {
   "cell_type": "code",
   "execution_count": 7,
   "id": "6ead4992-0c6a-42bf-bf11-24da254f207b",
   "metadata": {},
   "outputs": [
    {
     "name": "stderr",
     "output_type": "stream",
     "text": [
      "C:\\Users\\Mos\\AppData\\Local\\Temp\\ipykernel_15244\\2241832040.py:4: FutureWarning: Series.dt.weekofyear and Series.dt.week have been deprecated. Please use Series.dt.isocalendar().week instead.\n",
      "  df_train['week_of_year'] = df_train['date'].dt.week\n"
     ]
    }
   ],
   "source": [
    "df_train['date'] = pd.to_datetime(df_train['date'])\n",
    "df_train['year'] = df_train['date'].dt.year\n",
    "df_train['month'] = df_train['date'].dt.month\n",
    "df_train['week_of_year'] = df_train['date'].dt.week"
   ]
  },
  {
   "cell_type": "code",
   "execution_count": 8,
   "id": "b2fe38ba-c306-4779-8d3c-287e3a079008",
   "metadata": {},
   "outputs": [
    {
     "data": {
      "text/html": [
       "<div>\n",
       "<style scoped>\n",
       "    .dataframe tbody tr th:only-of-type {\n",
       "        vertical-align: middle;\n",
       "    }\n",
       "\n",
       "    .dataframe tbody tr th {\n",
       "        vertical-align: top;\n",
       "    }\n",
       "\n",
       "    .dataframe thead th {\n",
       "        text-align: right;\n",
       "    }\n",
       "</style>\n",
       "<table border=\"1\" class=\"dataframe\">\n",
       "  <thead>\n",
       "    <tr style=\"text-align: right;\">\n",
       "      <th></th>\n",
       "      <th>date</th>\n",
       "      <th>sales_in</th>\n",
       "      <th>stores</th>\n",
       "      <th>pro</th>\n",
       "      <th>pro_npro</th>\n",
       "      <th>offtake</th>\n",
       "      <th>year</th>\n",
       "      <th>month</th>\n",
       "      <th>week_of_year</th>\n",
       "    </tr>\n",
       "  </thead>\n",
       "  <tbody>\n",
       "    <tr>\n",
       "      <th>0</th>\n",
       "      <td>2020-07-13</td>\n",
       "      <td>4170</td>\n",
       "      <td>19336</td>\n",
       "      <td>RSP</td>\n",
       "      <td>0</td>\n",
       "      <td>5.5161</td>\n",
       "      <td>2020</td>\n",
       "      <td>7</td>\n",
       "      <td>29</td>\n",
       "    </tr>\n",
       "    <tr>\n",
       "      <th>1</th>\n",
       "      <td>2020-07-20</td>\n",
       "      <td>35</td>\n",
       "      <td>21440</td>\n",
       "      <td>2for</td>\n",
       "      <td>1</td>\n",
       "      <td>8.2377</td>\n",
       "      <td>2020</td>\n",
       "      <td>7</td>\n",
       "      <td>30</td>\n",
       "    </tr>\n",
       "    <tr>\n",
       "      <th>2</th>\n",
       "      <td>2020-07-27</td>\n",
       "      <td>256</td>\n",
       "      <td>24646</td>\n",
       "      <td>2for</td>\n",
       "      <td>1</td>\n",
       "      <td>11.9070</td>\n",
       "      <td>2020</td>\n",
       "      <td>7</td>\n",
       "      <td>31</td>\n",
       "    </tr>\n",
       "    <tr>\n",
       "      <th>3</th>\n",
       "      <td>2020-08-03</td>\n",
       "      <td>756</td>\n",
       "      <td>23780</td>\n",
       "      <td>2for</td>\n",
       "      <td>1</td>\n",
       "      <td>11.1780</td>\n",
       "      <td>2020</td>\n",
       "      <td>8</td>\n",
       "      <td>32</td>\n",
       "    </tr>\n",
       "    <tr>\n",
       "      <th>4</th>\n",
       "      <td>2020-08-10</td>\n",
       "      <td>452</td>\n",
       "      <td>23017</td>\n",
       "      <td>2for</td>\n",
       "      <td>1</td>\n",
       "      <td>10.2789</td>\n",
       "      <td>2020</td>\n",
       "      <td>8</td>\n",
       "      <td>33</td>\n",
       "    </tr>\n",
       "  </tbody>\n",
       "</table>\n",
       "</div>"
      ],
      "text/plain": [
       "        date  sales_in  stores   pro  pro_npro  offtake  year  month  \\\n",
       "0 2020-07-13      4170   19336   RSP         0   5.5161  2020      7   \n",
       "1 2020-07-20        35   21440  2for         1   8.2377  2020      7   \n",
       "2 2020-07-27       256   24646  2for         1  11.9070  2020      7   \n",
       "3 2020-08-03       756   23780  2for         1  11.1780  2020      8   \n",
       "4 2020-08-10       452   23017  2for         1  10.2789  2020      8   \n",
       "\n",
       "   week_of_year  \n",
       "0            29  \n",
       "1            30  \n",
       "2            31  \n",
       "3            32  \n",
       "4            33  "
      ]
     },
     "execution_count": 8,
     "metadata": {},
     "output_type": "execute_result"
    }
   ],
   "source": [
    "df_train.head()"
   ]
  },
  {
   "cell_type": "markdown",
   "id": "c323bb67-74a8-4268-897c-525a91545b61",
   "metadata": {},
   "source": [
    "## 2. Data Visualization"
   ]
  },
  {
   "cell_type": "code",
   "execution_count": 9,
   "id": "1008d34a-e7c9-4f3b-ab95-6197d7a8427c",
   "metadata": {},
   "outputs": [
    {
     "data": {
      "text/plain": [
       "<AxesSubplot: xlabel='pro', ylabel='count'>"
      ]
     },
     "execution_count": 9,
     "metadata": {},
     "output_type": "execute_result"
    },
    {
     "data": {
      "image/png": "[encoded data removed]",
      "text/plain": [
       "<Figure size 640x480 with 1 Axes>"
      ]
     },
     "metadata": {},
     "output_type": "display_data"
    }
   ],
   "source": [
    "sns.countplot(x=df_train[\"pro\"])"
   ]
  },
  {
   "cell_type": "code",
   "execution_count": 10,
   "id": "17cd6f35-c019-4cbc-8b23-024c6cb4103f",
   "metadata": {},
   "outputs": [],
   "source": [
    "df_train = df_train[['date','year','month','week_of_year','sales_in','stores','offtake','pro','pro_npro']]\n",
    "df_train = df_train.rename(columns = {'pro_npro' : 'pro_class'})"
   ]
  },
  {
   "cell_type": "code",
   "execution_count": 11,
   "id": "17a6b4d2-26ad-4fee-a282-10c2ab1cceb8",
   "metadata": {},
   "outputs": [
    {
     "data": {
      "text/html": [
       "<div>\n",
       "<style scoped>\n",
       "    .dataframe tbody tr th:only-of-type {\n",
       "        vertical-align: middle;\n",
       "    }\n",
       "\n",
       "    .dataframe tbody tr th {\n",
       "        vertical-align: top;\n",
       "    }\n",
       "\n",
       "    .dataframe thead th {\n",
       "        text-align: right;\n",
       "    }\n",
       "</style>\n",
       "<table border=\"1\" class=\"dataframe\">\n",
       "  <thead>\n",
       "    <tr style=\"text-align: right;\">\n",
       "      <th></th>\n",
       "      <th>date</th>\n",
       "      <th>year</th>\n",
       "      <th>month</th>\n",
       "      <th>week_of_year</th>\n",
       "      <th>sales_in</th>\n",
       "      <th>stores</th>\n",
       "      <th>offtake</th>\n",
       "      <th>pro</th>\n",
       "      <th>pro_class</th>\n",
       "    </tr>\n",
       "  </thead>\n",
       "  <tbody>\n",
       "    <tr>\n",
       "      <th>0</th>\n",
       "      <td>2020-07-13</td>\n",
       "      <td>2020</td>\n",
       "      <td>7</td>\n",
       "      <td>29</td>\n",
       "      <td>4170</td>\n",
       "      <td>19336</td>\n",
       "      <td>5.5161</td>\n",
       "      <td>RSP</td>\n",
       "      <td>0</td>\n",
       "    </tr>\n",
       "    <tr>\n",
       "      <th>1</th>\n",
       "      <td>2020-07-20</td>\n",
       "      <td>2020</td>\n",
       "      <td>7</td>\n",
       "      <td>30</td>\n",
       "      <td>35</td>\n",
       "      <td>21440</td>\n",
       "      <td>8.2377</td>\n",
       "      <td>2for</td>\n",
       "      <td>1</td>\n",
       "    </tr>\n",
       "    <tr>\n",
       "      <th>2</th>\n",
       "      <td>2020-07-27</td>\n",
       "      <td>2020</td>\n",
       "      <td>7</td>\n",
       "      <td>31</td>\n",
       "      <td>256</td>\n",
       "      <td>24646</td>\n",
       "      <td>11.9070</td>\n",
       "      <td>2for</td>\n",
       "      <td>1</td>\n",
       "    </tr>\n",
       "    <tr>\n",
       "      <th>3</th>\n",
       "      <td>2020-08-03</td>\n",
       "      <td>2020</td>\n",
       "      <td>8</td>\n",
       "      <td>32</td>\n",
       "      <td>756</td>\n",
       "      <td>23780</td>\n",
       "      <td>11.1780</td>\n",
       "      <td>2for</td>\n",
       "      <td>1</td>\n",
       "    </tr>\n",
       "    <tr>\n",
       "      <th>4</th>\n",
       "      <td>2020-08-10</td>\n",
       "      <td>2020</td>\n",
       "      <td>8</td>\n",
       "      <td>33</td>\n",
       "      <td>452</td>\n",
       "      <td>23017</td>\n",
       "      <td>10.2789</td>\n",
       "      <td>2for</td>\n",
       "      <td>1</td>\n",
       "    </tr>\n",
       "    <tr>\n",
       "      <th>...</th>\n",
       "      <td>...</td>\n",
       "      <td>...</td>\n",
       "      <td>...</td>\n",
       "      <td>...</td>\n",
       "      <td>...</td>\n",
       "      <td>...</td>\n",
       "      <td>...</td>\n",
       "      <td>...</td>\n",
       "      <td>...</td>\n",
       "    </tr>\n",
       "    <tr>\n",
       "      <th>100</th>\n",
       "      <td>2022-08-29</td>\n",
       "      <td>2022</td>\n",
       "      <td>8</td>\n",
       "      <td>35</td>\n",
       "      <td>52</td>\n",
       "      <td>7553</td>\n",
       "      <td>7.9218</td>\n",
       "      <td>RSP</td>\n",
       "      <td>0</td>\n",
       "    </tr>\n",
       "    <tr>\n",
       "      <th>101</th>\n",
       "      <td>2022-09-05</td>\n",
       "      <td>2022</td>\n",
       "      <td>9</td>\n",
       "      <td>36</td>\n",
       "      <td>120</td>\n",
       "      <td>7371</td>\n",
       "      <td>7.1928</td>\n",
       "      <td>RSP</td>\n",
       "      <td>0</td>\n",
       "    </tr>\n",
       "    <tr>\n",
       "      <th>102</th>\n",
       "      <td>2022-09-12</td>\n",
       "      <td>2022</td>\n",
       "      <td>9</td>\n",
       "      <td>37</td>\n",
       "      <td>73</td>\n",
       "      <td>6809</td>\n",
       "      <td>6.2937</td>\n",
       "      <td>RSP</td>\n",
       "      <td>0</td>\n",
       "    </tr>\n",
       "    <tr>\n",
       "      <th>103</th>\n",
       "      <td>2022-09-19</td>\n",
       "      <td>2022</td>\n",
       "      <td>9</td>\n",
       "      <td>38</td>\n",
       "      <td>93</td>\n",
       "      <td>6812</td>\n",
       "      <td>6.3666</td>\n",
       "      <td>RSP</td>\n",
       "      <td>0</td>\n",
       "    </tr>\n",
       "    <tr>\n",
       "      <th>104</th>\n",
       "      <td>2022-09-26</td>\n",
       "      <td>2022</td>\n",
       "      <td>9</td>\n",
       "      <td>39</td>\n",
       "      <td>129</td>\n",
       "      <td>7023</td>\n",
       "      <td>6.3666</td>\n",
       "      <td>RSP</td>\n",
       "      <td>0</td>\n",
       "    </tr>\n",
       "  </tbody>\n",
       "</table>\n",
       "<p>105 rows × 9 columns</p>\n",
       "</div>"
      ],
      "text/plain": [
       "          date  year  month  week_of_year  sales_in  stores  offtake   pro  \\\n",
       "0   2020-07-13  2020      7            29      4170   19336   5.5161   RSP   \n",
       "1   2020-07-20  2020      7            30        35   21440   8.2377  2for   \n",
       "2   2020-07-27  2020      7            31       256   24646  11.9070  2for   \n",
       "3   2020-08-03  2020      8            32       756   23780  11.1780  2for   \n",
       "4   2020-08-10  2020      8            33       452   23017  10.2789  2for   \n",
       "..         ...   ...    ...           ...       ...     ...      ...   ...   \n",
       "100 2022-08-29  2022      8            35        52    7553   7.9218   RSP   \n",
       "101 2022-09-05  2022      9            36       120    7371   7.1928   RSP   \n",
       "102 2022-09-12  2022      9            37        73    6809   6.2937   RSP   \n",
       "103 2022-09-19  2022      9            38        93    6812   6.3666   RSP   \n",
       "104 2022-09-26  2022      9            39       129    7023   6.3666   RSP   \n",
       "\n",
       "     pro_class  \n",
       "0            0  \n",
       "1            1  \n",
       "2            1  \n",
       "3            1  \n",
       "4            1  \n",
       "..         ...  \n",
       "100          0  \n",
       "101          0  \n",
       "102          0  \n",
       "103          0  \n",
       "104          0  \n",
       "\n",
       "[105 rows x 9 columns]"
      ]
     },
     "execution_count": 11,
     "metadata": {},
     "output_type": "execute_result"
    }
   ],
   "source": [
    "df_train"
   ]
  },
  {
   "cell_type": "code",
   "execution_count": 12,
   "id": "a955129b-7ed6-480d-92c0-de74853628a5",
   "metadata": {},
   "outputs": [
    {
     "data": {
      "text/plain": [
       "<AxesSubplot: xlabel='pro_class', ylabel='count'>"
      ]
     },
     "execution_count": 12,
     "metadata": {},
     "output_type": "execute_result"
    },
    {
     "data": {
      "image/png": "[encoded data removed]",
      "text/plain": [
       "<Figure size 640x480 with 1 Axes>"
      ]
     },
     "metadata": {},
     "output_type": "display_data"
    }
   ],
   "source": [
    "sns.countplot(x=df_train[\"pro_class\"])"
   ]
  },
  {
   "cell_type": "code",
   "execution_count": 13,
   "id": "2baf09f4-c44e-4a03-8fcf-878b28491bcd",
   "metadata": {},
   "outputs": [
    {
     "data": {
      "text/plain": [
       "67"
      ]
     },
     "execution_count": 13,
     "metadata": {},
     "output_type": "execute_result"
    }
   ],
   "source": [
    "df_train[df_train['pro_class'] == 0]['pro_class'].count()"
   ]
  },
  {
   "cell_type": "code",
   "execution_count": 14,
   "id": "dbcd5e6a-0ac1-4542-b080-0c6650394024",
   "metadata": {},
   "outputs": [
    {
     "data": {
      "text/plain": [
       "38"
      ]
     },
     "execution_count": 14,
     "metadata": {},
     "output_type": "execute_result"
    }
   ],
   "source": [
    "df_train[df_train['pro_class'] == 1]['pro_class'].count()"
   ]
  },
  {
   "cell_type": "code",
   "execution_count": 15,
   "id": "c905ebe0-019f-44c7-aff1-9b49cecdd6f4",
   "metadata": {},
   "outputs": [
    {
     "data": {
      "text/plain": [
       "105"
      ]
     },
     "execution_count": 15,
     "metadata": {},
     "output_type": "execute_result"
    }
   ],
   "source": [
    "df_train['pro_class'].count()"
   ]
  },
  {
   "cell_type": "code",
   "execution_count": 16,
   "id": "bb5b0582-b1ef-4c13-94d4-3abee87790ea",
   "metadata": {},
   "outputs": [
    {
     "name": "stdout",
     "output_type": "stream",
     "text": [
      "majority_class:  0.638095238095238\n",
      "minority_class:  0.3619047619047619\n"
     ]
    }
   ],
   "source": [
    "print(\"majority_class: \", df_train[df_train['pro_class'] == 0]['pro_class'].count() / df_train['pro_class'].count())\n",
    "print(\"minority_class: \", df_train[df_train['pro_class'] == 1]['pro_class'].count() / df_train['pro_class'].count())"
   ]
  },
  {
   "cell_type": "markdown",
   "id": "ed0b06ff-361e-413a-b324-685fcf197cd1",
   "metadata": {},
   "source": [
    "### explore target class through other continuous feature"
   ]
  },
  {
   "cell_type": "code",
   "execution_count": 17,
   "id": "741d8ecf-dc16-42df-b234-d04191babdb2",
   "metadata": {},
   "outputs": [
    {
     "data": {
      "text/plain": [
       "<AxesSubplot: xlabel='date', ylabel='offtake'>"
      ]
     },
     "execution_count": 17,
     "metadata": {},
     "output_type": "execute_result"
    },
    {
     "data": {
      "image/png": "[encoded data removed]",
      "text/plain": [
       "<Figure size 2000x200 with 1 Axes>"
      ]
     },
     "metadata": {},
     "output_type": "display_data"
    }
   ],
   "source": [
    "plt.figure(figsize=(20, 2))\n",
    "sns.lineplot(data=df_train, x=\"date\", y=\"offtake\", marker='o', linestyle='',hue=\"pro_class\")"
   ]
  },
  {
   "cell_type": "code",
   "execution_count": 18,
   "id": "48557299-d10a-4664-967a-bd90bd44c65b",
   "metadata": {},
   "outputs": [
    {
     "data": {
      "text/plain": [
       "<AxesSubplot: xlabel='date', ylabel='stores'>"
      ]
     },
     "execution_count": 18,
     "metadata": {},
     "output_type": "execute_result"
    },
    {
     "data": {
      "image/png": "[encoded data removed]",
      "text/plain": [
       "<Figure size 2000x200 with 1 Axes>"
      ]
     },
     "metadata": {},
     "output_type": "display_data"
    }
   ],
   "source": [
    "plt.figure(figsize=(20, 2))\n",
    "sns.lineplot(data=df_train, x=\"date\", y=\"stores\", marker='o', linestyle='',hue=\"pro_class\")"
   ]
  },
  {
   "cell_type": "code",
   "execution_count": 19,
   "id": "da540e12-3c09-4f83-9e6d-d30c8009762f",
   "metadata": {},
   "outputs": [
    {
     "data": {
      "text/plain": [
       "<AxesSubplot: xlabel='date', ylabel='sales_in'>"
      ]
     },
     "execution_count": 19,
     "metadata": {},
     "output_type": "execute_result"
    },
    {
     "data": {
      "image/png": "[encoded data removed]",
      "text/plain": [
       "<Figure size 2000x200 with 1 Axes>"
      ]
     },
     "metadata": {},
     "output_type": "display_data"
    }
   ],
   "source": [
    "plt.figure(figsize=(20, 2))\n",
    "sns.lineplot(data=df_train, x=\"date\", y=\"sales_in\", marker='o', linestyle='',hue=\"pro_class\")"
   ]
  },
  {
   "cell_type": "markdown",
   "id": "ce824717-1745-4781-a1f7-9810ed00b1f0",
   "metadata": {},
   "source": [
    "### correlation checking"
   ]
  },
  {
   "cell_type": "code",
   "execution_count": 20,
   "id": "89129526-3587-4357-a5f1-b61aaa9a786d",
   "metadata": {},
   "outputs": [
    {
     "name": "stderr",
     "output_type": "stream",
     "text": [
      "C:\\Users\\Mos\\AppData\\Local\\Temp\\ipykernel_15244\\2377836558.py:1: FutureWarning: The default value of numeric_only in DataFrame.corr is deprecated. In a future version, it will default to False. Select only valid columns or specify the value of numeric_only to silence this warning.\n",
      "  df_corr = df_train.corr().abs()\n"
     ]
    }
   ],
   "source": [
    "df_corr = df_train.corr().abs()"
   ]
  },
  {
   "cell_type": "code",
   "execution_count": 21,
   "id": "731f8eaf-6557-40b1-b750-560ff5d1ca5e",
   "metadata": {},
   "outputs": [
    {
     "data": {
      "text/plain": [
       "<AxesSubplot: >"
      ]
     },
     "execution_count": 21,
     "metadata": {},
     "output_type": "execute_result"
    },
    {
     "data": {
      "image/png": "[encoded data removed]",
      "text/plain": [
       "<Figure size 1200x800 with 2 Axes>"
      ]
     },
     "metadata": {},
     "output_type": "display_data"
    }
   ],
   "source": [
    "plt.figure(figsize=(12,8))\n",
    "mask = np.triu(np.ones_like(df_corr, dtype=bool))\n",
    "sns.heatmap(df_corr, annot=True, fmt=\".2f\", linewidths=.5, mask=mask, robust=True)"
   ]
  },
  {
   "cell_type": "code",
   "execution_count": 22,
   "id": "0a61a521-815d-4358-8366-dbef3c27c465",
   "metadata": {},
   "outputs": [
    {
     "data": {
      "text/plain": [
       "Index(['date', 'year', 'month', 'week_of_year', 'sales_in', 'stores',\n",
       "       'offtake', 'pro', 'pro_class'],\n",
       "      dtype='object')"
      ]
     },
     "execution_count": 22,
     "metadata": {},
     "output_type": "execute_result"
    }
   ],
   "source": [
    "df_train.columns"
   ]
  },
  {
   "cell_type": "code",
   "execution_count": 23,
   "id": "80663548-c545-4b9e-8cb4-539ad47fead1",
   "metadata": {},
   "outputs": [],
   "source": [
    "features_columns = ['month', 'week_of_year', 'sales_in', 'stores','offtake']"
   ]
  },
  {
   "cell_type": "code",
   "execution_count": 25,
   "id": "972622ec-5b0c-42bf-99d9-f3ad21bc7158",
   "metadata": {},
   "outputs": [],
   "source": [
    "train = df_train[:90]\n",
    "valid = df_train[90:]"
   ]
  },
  {
   "cell_type": "code",
   "execution_count": 26,
   "id": "dbeee4af-dcd2-4b76-9052-2cffd1e82526",
   "metadata": {},
   "outputs": [
    {
     "data": {
      "text/plain": [
       "<AxesSubplot: xlabel='date', ylabel='offtake'>"
      ]
     },
     "execution_count": 26,
     "metadata": {},
     "output_type": "execute_result"
    },
    {
     "data": {
      "image/png": "[encoded data removed]",
      "text/plain": [
       "<Figure size 2000x200 with 1 Axes>"
      ]
     },
     "metadata": {},
     "output_type": "display_data"
    }
   ],
   "source": [
    "plt.figure(figsize=(20, 2))\n",
    "sns.lineplot(data=train, x=\"date\", y=\"offtake\", marker='o', linestyle='')\n",
    "sns.lineplot(data=valid, x=\"date\", y=\"offtake\", marker='o', linestyle='')"
   ]
  },
  {
   "cell_type": "code",
   "execution_count": 27,
   "id": "47b6b087-0deb-47c0-84d1-14b6eee8a144",
   "metadata": {},
   "outputs": [
    {
     "name": "stderr",
     "output_type": "stream",
     "text": [
      "C:\\Users\\Mos\\anaconda3\\envs\\supervise\\lib\\site-packages\\seaborn\\distributions.py:2619: FutureWarning: `distplot` is a deprecated function and will be removed in a future version. Please adapt your code to use either `displot` (a figure-level function with similar flexibility) or `histplot` (an axes-level function for histograms).\n",
      "  warnings.warn(msg, FutureWarning)\n",
      "C:\\Users\\Mos\\anaconda3\\envs\\supervise\\lib\\site-packages\\seaborn\\distributions.py:2619: FutureWarning: `distplot` is a deprecated function and will be removed in a future version. Please adapt your code to use either `displot` (a figure-level function with similar flexibility) or `histplot` (an axes-level function for histograms).\n",
      "  warnings.warn(msg, FutureWarning)\n"
     ]
    },
    {
     "data": {
      "text/plain": [
       "<matplotlib.legend.Legend at 0x26004570d60>"
      ]
     },
     "execution_count": 27,
     "metadata": {},
     "output_type": "execute_result"
    },
    {
     "data": {
      "image/png": "[encoded data removed]",
      "text/plain": [
       "<Figure size 1500x200 with 1 Axes>"
      ]
     },
     "metadata": {},
     "output_type": "display_data"
    }
   ],
   "source": [
    "plt.figure(figsize=(15, 2));\n",
    "sns.distplot(train[\"offtake\"]);\n",
    "sns.distplot(valid[\"offtake\"]);\n",
    "plt.legend([\"train\", \"valid\"])"
   ]
  },
  {
   "cell_type": "code",
   "execution_count": 28,
   "id": "aa6ee567-7426-47c9-b760-d9cade6cbf13",
   "metadata": {},
   "outputs": [
    {
     "name": "stderr",
     "output_type": "stream",
     "text": [
      "C:\\Users\\Mos\\anaconda3\\envs\\supervise\\lib\\site-packages\\seaborn\\distributions.py:2619: FutureWarning: `distplot` is a deprecated function and will be removed in a future version. Please adapt your code to use either `displot` (a figure-level function with similar flexibility) or `histplot` (an axes-level function for histograms).\n",
      "  warnings.warn(msg, FutureWarning)\n",
      "C:\\Users\\Mos\\anaconda3\\envs\\supervise\\lib\\site-packages\\seaborn\\distributions.py:2619: FutureWarning: `distplot` is a deprecated function and will be removed in a future version. Please adapt your code to use either `displot` (a figure-level function with similar flexibility) or `histplot` (an axes-level function for histograms).\n",
      "  warnings.warn(msg, FutureWarning)\n"
     ]
    },
    {
     "data": {
      "text/plain": [
       "<matplotlib.legend.Legend at 0x26001a25e20>"
      ]
     },
     "execution_count": 28,
     "metadata": {},
     "output_type": "execute_result"
    },
    {
     "data": {
      "image/png": "[encoded data removed]",
      "text/plain": [
       "<Figure size 1500x200 with 1 Axes>"
      ]
     },
     "metadata": {},
     "output_type": "display_data"
    }
   ],
   "source": [
    "plt.figure(figsize=(15, 2));\n",
    "sns.distplot(train[train['pro_class'] == 0][\"offtake\"]);\n",
    "sns.distplot(train[train['pro_class'] == 1][\"offtake\"]);\n",
    "plt.legend([\"RSP\", \"Pro\"])"
   ]
  },
  {
   "cell_type": "code",
   "execution_count": 29,
   "id": "1cebdaba-b854-435c-a1cd-7410d1ee3c4c",
   "metadata": {},
   "outputs": [
    {
     "name": "stderr",
     "output_type": "stream",
     "text": [
      "C:\\Users\\Mos\\anaconda3\\envs\\supervise\\lib\\site-packages\\seaborn\\distributions.py:2619: FutureWarning: `distplot` is a deprecated function and will be removed in a future version. Please adapt your code to use either `displot` (a figure-level function with similar flexibility) or `histplot` (an axes-level function for histograms).\n",
      "  warnings.warn(msg, FutureWarning)\n",
      "C:\\Users\\Mos\\anaconda3\\envs\\supervise\\lib\\site-packages\\seaborn\\distributions.py:2619: FutureWarning: `distplot` is a deprecated function and will be removed in a future version. Please adapt your code to use either `displot` (a figure-level function with similar flexibility) or `histplot` (an axes-level function for histograms).\n",
      "  warnings.warn(msg, FutureWarning)\n"
     ]
    },
    {
     "data": {
      "text/plain": [
       "<matplotlib.legend.Legend at 0x260043f8f40>"
      ]
     },
     "execution_count": 29,
     "metadata": {},
     "output_type": "execute_result"
    },
    {
     "data": {
      "image/png": "[encoded data removed]",
      "text/plain": [
       "<Figure size 1500x200 with 1 Axes>"
      ]
     },
     "metadata": {},
     "output_type": "display_data"
    }
   ],
   "source": [
    "plt.figure(figsize=(15, 2));\n",
    "sns.distplot(train[train['pro_class'] == 0][\"stores\"]);\n",
    "sns.distplot(train[train['pro_class'] == 1][\"stores\"]);\n",
    "plt.legend([\"RSP\", \"Pro\"])"
   ]
  },
  {
   "cell_type": "code",
   "execution_count": 30,
   "id": "6ae28f68-ff05-43c4-a2bc-e45a6c116e9a",
   "metadata": {},
   "outputs": [
    {
     "name": "stderr",
     "output_type": "stream",
     "text": [
      "C:\\Users\\Mos\\anaconda3\\envs\\supervise\\lib\\site-packages\\seaborn\\distributions.py:2619: FutureWarning: `distplot` is a deprecated function and will be removed in a future version. Please adapt your code to use either `displot` (a figure-level function with similar flexibility) or `histplot` (an axes-level function for histograms).\n",
      "  warnings.warn(msg, FutureWarning)\n",
      "C:\\Users\\Mos\\anaconda3\\envs\\supervise\\lib\\site-packages\\seaborn\\distributions.py:2619: FutureWarning: `distplot` is a deprecated function and will be removed in a future version. Please adapt your code to use either `displot` (a figure-level function with similar flexibility) or `histplot` (an axes-level function for histograms).\n",
      "  warnings.warn(msg, FutureWarning)\n"
     ]
    },
    {
     "data": {
      "text/plain": [
       "<matplotlib.legend.Legend at 0x260044c5e20>"
      ]
     },
     "execution_count": 30,
     "metadata": {},
     "output_type": "execute_result"
    },
    {
     "data": {
      "image/png": "[encoded data removed]",
      "text/plain": [
       "<Figure size 1500x200 with 1 Axes>"
      ]
     },
     "metadata": {},
     "output_type": "display_data"
    }
   ],
   "source": [
    "plt.figure(figsize=(15, 2));\n",
    "sns.distplot(train[train['pro_class'] == 0][\"sales_in\"]);\n",
    "sns.distplot(train[train['pro_class'] == 1][\"sales_in\"]);\n",
    "plt.legend([\"RSP\", \"Pro\"])"
   ]
  },
  {
   "cell_type": "code",
   "execution_count": 31,
   "id": "cf142abb-1783-4df8-b791-d772f6f69876",
   "metadata": {},
   "outputs": [
    {
     "name": "stderr",
     "output_type": "stream",
     "text": [
      "C:\\Users\\Mos\\anaconda3\\envs\\supervise\\lib\\site-packages\\seaborn\\distributions.py:2619: FutureWarning: `distplot` is a deprecated function and will be removed in a future version. Please adapt your code to use either `displot` (a figure-level function with similar flexibility) or `histplot` (an axes-level function for histograms).\n",
      "  warnings.warn(msg, FutureWarning)\n",
      "C:\\Users\\Mos\\anaconda3\\envs\\supervise\\lib\\site-packages\\seaborn\\distributions.py:2619: FutureWarning: `distplot` is a deprecated function and will be removed in a future version. Please adapt your code to use either `displot` (a figure-level function with similar flexibility) or `histplot` (an axes-level function for histograms).\n",
      "  warnings.warn(msg, FutureWarning)\n"
     ]
    },
    {
     "data": {
      "text/plain": [
       "<matplotlib.legend.Legend at 0x26005d86be0>"
      ]
     },
     "execution_count": 31,
     "metadata": {},
     "output_type": "execute_result"
    },
    {
     "data": {
      "image/png": "[encoded data removed]",
      "text/plain": [
       "<Figure size 1500x200 with 1 Axes>"
      ]
     },
     "metadata": {},
     "output_type": "display_data"
    }
   ],
   "source": [
    "plt.figure(figsize=(15, 2));\n",
    "sns.distplot(train[train['pro_class'] == 0][\"week_of_year\"]);\n",
    "sns.distplot(train[train['pro_class'] == 1][\"week_of_year\"]);\n",
    "plt.legend([\"RSP\", \"Pro\"])"
   ]
  },
  {
   "cell_type": "markdown",
   "id": "b80a5189-6104-4d75-a56e-02eb2cfea985",
   "metadata": {},
   "source": [
    "## 3. Preprocessing "
   ]
  },
  {
   "cell_type": "code",
   "execution_count": 32,
   "id": "c9f5df31-2a38-4653-b3c0-46207c8a4917",
   "metadata": {},
   "outputs": [],
   "source": [
    "#from sklearn.preprocessing import MinMaxScaler, StandardScaler"
   ]
  },
  {
   "cell_type": "code",
   "execution_count": 33,
   "id": "114fbeb4-a6d2-4330-ae16-a62ba2e106a3",
   "metadata": {},
   "outputs": [],
   "source": [
    "#norm = MinMaxScaler()\n",
    "#stand = StandardScaler()"
   ]
  },
  {
   "cell_type": "code",
   "execution_count": 34,
   "id": "69ef39d2-5234-41f5-8b0b-5ee029ae65fd",
   "metadata": {},
   "outputs": [
    {
     "data": {
      "text/plain": [
       "['month', 'week_of_year', 'sales_in', 'stores', 'offtake']"
      ]
     },
     "execution_count": 34,
     "metadata": {},
     "output_type": "execute_result"
    }
   ],
   "source": [
    "features_columns"
   ]
  },
  {
   "cell_type": "code",
   "execution_count": 35,
   "id": "dad27ced-629c-4f1e-89cb-bd218726fe3c",
   "metadata": {},
   "outputs": [],
   "source": [
    "X_train = train[features_columns].values\n",
    "X_val = valid[features_columns].values\n",
    "\n",
    "y_train = train[\"pro_class\"].tolist()\n",
    "y_val = valid[\"pro_class\"].tolist()"
   ]
  },
  {
   "cell_type": "code",
   "execution_count": 36,
   "id": "36fce893-f15f-4e37-9bae-3179fe14b4a8",
   "metadata": {},
   "outputs": [
    {
     "data": {
      "text/plain": [
       "((90, 5), (15, 5))"
      ]
     },
     "execution_count": 36,
     "metadata": {},
     "output_type": "execute_result"
    }
   ],
   "source": [
    "X_train.shape, X_val.shape"
   ]
  },
  {
   "cell_type": "code",
   "execution_count": 37,
   "id": "472aa72e-6a17-408b-88b4-86c579ffd713",
   "metadata": {},
   "outputs": [
    {
     "data": {
      "text/plain": [
       "array([[7.00000e+00, 2.90000e+01, 4.17000e+03, 1.93360e+04, 5.51610e+00],\n",
       "       [7.00000e+00, 3.00000e+01, 3.50000e+01, 2.14400e+04, 8.23770e+00],\n",
       "       [7.00000e+00, 3.10000e+01, 2.56000e+02, 2.46460e+04, 1.19070e+01],\n",
       "       [8.00000e+00, 3.20000e+01, 7.56000e+02, 2.37800e+04, 1.11780e+01],\n",
       "       [8.00000e+00, 3.30000e+01, 4.52000e+02, 2.30170e+04, 1.02789e+01]])"
      ]
     },
     "execution_count": 37,
     "metadata": {},
     "output_type": "execute_result"
    }
   ],
   "source": [
    "X_train[0:5]"
   ]
  },
  {
   "cell_type": "markdown",
   "id": "0a777a3f-684a-45b7-91e7-2eb58dbb200a",
   "metadata": {},
   "source": [
    "## 4. Model & Measure regression performance"
   ]
  },
  {
   "cell_type": "markdown",
   "id": "cdbfd1a1-fa89-494b-960e-c2e92d4cc867",
   "metadata": {},
   "source": [
    "### 4.1 DecisionTreeClassifier"
   ]
  },
  {
   "cell_type": "code",
   "execution_count": 38,
   "id": "032f67f9-7601-41c8-992f-cd085761622f",
   "metadata": {},
   "outputs": [],
   "source": [
    "from sklearn.tree import DecisionTreeClassifier\n",
    "import sklearn\n",
    "from sklearn.metrics import *\n",
    "from sklearn.model_selection import GridSearchCV"
   ]
  },
  {
   "cell_type": "code",
   "execution_count": 39,
   "id": "633c641c-ba99-4198-8a9f-b2b4f8311e24",
   "metadata": {},
   "outputs": [],
   "source": [
    "param_grid = {'max_depth': [5, 6, 7, 8, 9, 10, 11, 12]}"
   ]
  },
  {
   "cell_type": "code",
   "execution_count": 40,
   "id": "2834f1de-e252-45c2-ac1a-463fb6c54174",
   "metadata": {},
   "outputs": [],
   "source": [
    "clf_tree = DecisionTreeClassifier(random_state=2022)"
   ]
  },
  {
   "cell_type": "code",
   "execution_count": 41,
   "id": "4980d424-d7d6-4dca-80d0-44c2705ba32f",
   "metadata": {},
   "outputs": [
    {
     "data": {
      "text/plain": [
       "GridSearchCV(estimator=DecisionTreeClassifier(random_state=2022), n_jobs=-1,\n",
       "             param_grid={'max_depth': [5, 6, 7, 8, 9, 10, 11, 12]},\n",
       "             scoring='f1')"
      ]
     },
     "execution_count": 41,
     "metadata": {},
     "output_type": "execute_result"
    }
   ],
   "source": [
    "grid = GridSearchCV(estimator=clf_tree, \n",
    "                    param_grid=param_grid, \n",
    "                    scoring=\"f1\", \n",
    "                    n_jobs=-1)\n",
    "\n",
    "grid.fit(X_train, y_train)"
   ]
  },
  {
   "cell_type": "code",
   "execution_count": 42,
   "id": "4c5ed6ee-c04e-4967-8d39-16bc047ff14b",
   "metadata": {},
   "outputs": [
    {
     "name": "stdout",
     "output_type": "stream",
     "text": [
      "0.5906590004422821\n",
      "5\n"
     ]
    }
   ],
   "source": [
    "print(grid.best_score_)\n",
    "print(grid.best_estimator_.max_depth)"
   ]
  },
  {
   "cell_type": "code",
   "execution_count": 43,
   "id": "3b9c2a61-9de5-4dda-bf2b-9cec1e723398",
   "metadata": {},
   "outputs": [
    {
     "data": {
      "text/plain": [
       "DecisionTreeClassifier(max_depth=5, random_state=2022)"
      ]
     },
     "execution_count": 43,
     "metadata": {},
     "output_type": "execute_result"
    }
   ],
   "source": [
    "opt_clf_tree = DecisionTreeClassifier(max_depth=5, random_state=2022)\n",
    "opt_clf_tree.fit(X_train, y_train)"
   ]
  },
  {
   "cell_type": "code",
   "execution_count": 44,
   "id": "a915e13d-da33-40e5-b237-7ba63638f489",
   "metadata": {},
   "outputs": [],
   "source": [
    "y_train_opt_clf_tree = opt_clf_tree.predict(X_train)\n",
    "y_val_opt_clf_tree = opt_clf_tree.predict(X_val)"
   ]
  },
  {
   "cell_type": "code",
   "execution_count": 45,
   "id": "2db0ae92-f03f-4ae9-addf-7614b25e1c9f",
   "metadata": {},
   "outputs": [],
   "source": [
    "acc =  accuracy_score(y_train, y_train_opt_clf_tree)\n",
    "cm = confusion_matrix(y_train, y_train_opt_clf_tree)"
   ]
  },
  {
   "cell_type": "code",
   "execution_count": 46,
   "id": "2949330a-bf59-4978-8cae-72789bf7a131",
   "metadata": {},
   "outputs": [
    {
     "name": "stdout",
     "output_type": "stream",
     "text": [
      "0.9888888888888889\n"
     ]
    }
   ],
   "source": [
    "print(acc)"
   ]
  },
  {
   "cell_type": "code",
   "execution_count": 47,
   "id": "f15f7b3a-90e7-4313-95ac-7dce63ed7511",
   "metadata": {},
   "outputs": [
    {
     "name": "stdout",
     "output_type": "stream",
     "text": [
      "[[56  0]\n",
      " [ 1 33]]\n"
     ]
    }
   ],
   "source": [
    "print(cm)"
   ]
  },
  {
   "cell_type": "code",
   "execution_count": 48,
   "id": "f2366e9b-d3da-4fe7-af1c-37c5b8f2f418",
   "metadata": {},
   "outputs": [
    {
     "name": "stdout",
     "output_type": "stream",
     "text": [
      "              precision    recall  f1-score   support\n",
      "\n",
      "         RSP       0.98      1.00      0.99        56\n",
      "         pro       1.00      0.97      0.99        34\n",
      "\n",
      "    accuracy                           0.99        90\n",
      "   macro avg       0.99      0.99      0.99        90\n",
      "weighted avg       0.99      0.99      0.99        90\n",
      "\n"
     ]
    }
   ],
   "source": [
    "print( classification_report(y_train, y_train_opt_clf_tree, target_names = ['RSP' , 'pro']))"
   ]
  },
  {
   "cell_type": "code",
   "execution_count": 49,
   "id": "47b864e5-778f-41fa-96b6-16794d86650c",
   "metadata": {},
   "outputs": [],
   "source": [
    "acc =  accuracy_score(y_val, y_val_opt_clf_tree)\n",
    "cm = confusion_matrix(y_val, y_val_opt_clf_tree)"
   ]
  },
  {
   "cell_type": "code",
   "execution_count": 50,
   "id": "ec56eaee-be11-4e2e-b678-7bff46760dc7",
   "metadata": {},
   "outputs": [
    {
     "name": "stdout",
     "output_type": "stream",
     "text": [
      "0.8666666666666667\n"
     ]
    }
   ],
   "source": [
    "print(acc)"
   ]
  },
  {
   "cell_type": "code",
   "execution_count": 51,
   "id": "bd3bbe07-0204-4bb5-acaf-7426ce0e7097",
   "metadata": {},
   "outputs": [
    {
     "name": "stdout",
     "output_type": "stream",
     "text": [
      "[[10  1]\n",
      " [ 1  3]]\n"
     ]
    }
   ],
   "source": [
    "print(cm)"
   ]
  },
  {
   "cell_type": "code",
   "execution_count": 52,
   "id": "3a0b208f-dfe9-490c-a934-83427ba85146",
   "metadata": {},
   "outputs": [
    {
     "name": "stdout",
     "output_type": "stream",
     "text": [
      "              precision    recall  f1-score   support\n",
      "\n",
      "         RSP       0.91      0.91      0.91        11\n",
      "         pro       0.75      0.75      0.75         4\n",
      "\n",
      "    accuracy                           0.87        15\n",
      "   macro avg       0.83      0.83      0.83        15\n",
      "weighted avg       0.87      0.87      0.87        15\n",
      "\n"
     ]
    }
   ],
   "source": [
    "print( classification_report(y_val, y_val_opt_clf_tree, target_names = ['RSP' , 'pro']))"
   ]
  },
  {
   "cell_type": "code",
   "execution_count": 53,
   "id": "b74030f0-2464-42a1-8cb9-c0d23bb9c9c4",
   "metadata": {},
   "outputs": [
    {
     "name": "stderr",
     "output_type": "stream",
     "text": [
      "C:\\Users\\Mos\\AppData\\Local\\Temp\\ipykernel_15244\\1149549555.py:1: SettingWithCopyWarning: \n",
      "A value is trying to be set on a copy of a slice from a DataFrame.\n",
      "Try using .loc[row_indexer,col_indexer] = value instead\n",
      "\n",
      "See the caveats in the documentation: https://pandas.pydata.org/pandas-docs/stable/user_guide/indexing.html#returning-a-view-versus-a-copy\n",
      "  train[\"baseline\"] = y_train_opt_clf_tree\n",
      "C:\\Users\\Mos\\AppData\\Local\\Temp\\ipykernel_15244\\1149549555.py:2: SettingWithCopyWarning: \n",
      "A value is trying to be set on a copy of a slice from a DataFrame.\n",
      "Try using .loc[row_indexer,col_indexer] = value instead\n",
      "\n",
      "See the caveats in the documentation: https://pandas.pydata.org/pandas-docs/stable/user_guide/indexing.html#returning-a-view-versus-a-copy\n",
      "  valid[\"baseline\"] = y_val_opt_clf_tree\n"
     ]
    }
   ],
   "source": [
    "train[\"baseline\"] = y_train_opt_clf_tree\n",
    "valid[\"baseline\"] = y_val_opt_clf_tree"
   ]
  },
  {
   "cell_type": "code",
   "execution_count": 54,
   "id": "2a617fba-3c93-4db1-b978-20a9021e0e9d",
   "metadata": {},
   "outputs": [
    {
     "data": {
      "text/plain": [
       "<AxesSubplot: xlabel='date', ylabel='offtake'>"
      ]
     },
     "execution_count": 54,
     "metadata": {},
     "output_type": "execute_result"
    },
    {
     "data": {
      "image/png": "[encoded data removed]",
      "text/plain": [
       "<Figure size 2000x200 with 1 Axes>"
      ]
     },
     "metadata": {},
     "output_type": "display_data"
    }
   ],
   "source": [
    "plt.figure(figsize=(20, 2))\n",
    "sns.lineplot(data=train, x=\"date\", y=\"offtake\", marker='o', linestyle='',hue=\"pro_class\")"
   ]
  },
  {
   "cell_type": "code",
   "execution_count": 55,
   "id": "f0971165-9bb7-4340-807e-cdcb773068be",
   "metadata": {},
   "outputs": [
    {
     "data": {
      "text/plain": [
       "<AxesSubplot: xlabel='date', ylabel='offtake'>"
      ]
     },
     "execution_count": 55,
     "metadata": {},
     "output_type": "execute_result"
    },
    {
     "data": {
      "image/png": "[encoded data removed]",
      "text/plain": [
       "<Figure size 2000x200 with 1 Axes>"
      ]
     },
     "metadata": {},
     "output_type": "display_data"
    }
   ],
   "source": [
    "plt.figure(figsize=(20, 2))\n",
    "sns.lineplot(data=train, x=\"date\", y=\"offtake\", marker='o', linestyle='',hue=\"baseline\")"
   ]
  },
  {
   "cell_type": "code",
   "execution_count": 56,
   "id": "63f40e02-3cc2-4793-a4ab-bd97db6007ea",
   "metadata": {},
   "outputs": [
    {
     "data": {
      "text/plain": [
       "<AxesSubplot: xlabel='date', ylabel='offtake'>"
      ]
     },
     "execution_count": 56,
     "metadata": {},
     "output_type": "execute_result"
    },
    {
     "data": {
      "image/png": "[encoded data removed]",
      "text/plain": [
       "<Figure size 2000x200 with 1 Axes>"
      ]
     },
     "metadata": {},
     "output_type": "display_data"
    }
   ],
   "source": [
    "plt.figure(figsize=(20, 2))\n",
    "sns.lineplot(data=valid, x=\"date\", y=\"offtake\", marker='o', linestyle='',hue=\"pro_class\")"
   ]
  },
  {
   "cell_type": "code",
   "execution_count": 57,
   "id": "a9633c04-2732-4ba3-9601-accbcc2ac948",
   "metadata": {},
   "outputs": [
    {
     "data": {
      "text/plain": [
       "<AxesSubplot: xlabel='date', ylabel='offtake'>"
      ]
     },
     "execution_count": 57,
     "metadata": {},
     "output_type": "execute_result"
    },
    {
     "data": {
      "image/png": "[encoded data removed]",
      "text/plain": [
       "<Figure size 2000x200 with 1 Axes>"
      ]
     },
     "metadata": {},
     "output_type": "display_data"
    }
   ],
   "source": [
    "plt.figure(figsize=(20, 2))\n",
    "sns.lineplot(data=valid, x=\"date\", y=\"offtake\", marker='o', linestyle='',hue=\"baseline\")"
   ]
  },
  {
   "cell_type": "code",
   "execution_count": null,
   "id": "5d98e5d6-f595-4b7d-87e7-f1f282c43aae",
   "metadata": {},
   "outputs": [],
   "source": []
  },
  {
   "cell_type": "code",
   "execution_count": 58,
   "id": "488a4014-8d5b-407b-9fa0-f7db8c0430b6",
   "metadata": {},
   "outputs": [],
   "source": [
    "from sklearn.model_selection import TimeSeriesSplit"
   ]
  },
  {
   "cell_type": "code",
   "execution_count": 59,
   "id": "b628228c-3d41-4676-adbe-4f2708435260",
   "metadata": {},
   "outputs": [],
   "source": [
    "tscv = TimeSeriesSplit(n_splits=5, test_size=10)\n",
    "\n",
    "cv_ls = []\n",
    "for train_index, valid_index in tscv.split(X_train):\n",
    "    cv_ls.append((train_index, valid_index))"
   ]
  },
  {
   "cell_type": "code",
   "execution_count": 60,
   "id": "2fb09ffc-fdf3-4607-9ef2-8e4af065c216",
   "metadata": {},
   "outputs": [
    {
     "data": {
      "text/plain": [
       "<matplotlib.legend.Legend at 0x260072ca7f0>"
      ]
     },
     "execution_count": 60,
     "metadata": {},
     "output_type": "execute_result"
    },
    {
     "data": {
      "image/png": "[encoded data removed]",
      "text/plain": [
       "<Figure size 2000x200 with 1 Axes>"
      ]
     },
     "metadata": {},
     "output_type": "display_data"
    },
    {
     "data": {
      "image/png": "[encoded data removed]",
      "text/plain": [
       "<Figure size 2000x200 with 1 Axes>"
      ]
     },
     "metadata": {},
     "output_type": "display_data"
    },
    {
     "data": {
      "image/png": "[encoded data removed]",
      "text/plain": [
       "<Figure size 2000x200 with 1 Axes>"
      ]
     },
     "metadata": {},
     "output_type": "display_data"
    }
   ],
   "source": [
    "plt.figure(figsize=(20, 2))\n",
    "sns.lineplot(data=train.iloc[cv_ls[0][0]], x=\"date\", y=\"pro_class\", marker='o', linestyle='')\n",
    "sns.lineplot(data=train.iloc[cv_ls[0][1]], x=\"date\", y=\"pro_class\", marker='o', linestyle='')\n",
    "plt.legend([\"Train\", \"Predict\"])\n",
    "\n",
    "plt.figure(figsize=(20, 2))\n",
    "sns.lineplot(data=train.iloc[cv_ls[1][0]], x=\"date\", y=\"pro_class\", marker='o', linestyle='')\n",
    "sns.lineplot(data=train.iloc[cv_ls[1][1]], x=\"date\", y=\"pro_class\", marker='o', linestyle='')\n",
    "plt.legend([\"Train\", \"Predict\"])\n",
    "\n",
    "plt.figure(figsize=(20, 2))\n",
    "sns.lineplot(data=train.iloc[cv_ls[2][0]], x=\"date\", y=\"pro_class\", marker='o', linestyle='')\n",
    "sns.lineplot(data=train.iloc[cv_ls[2][1]], x=\"date\", y=\"pro_class\", marker='o', linestyle='')\n",
    "plt.legend([\"Train\", \"Predict\"])"
   ]
  },
  {
   "cell_type": "markdown",
   "id": "d2244fa7-915b-4508-b6bb-72588e3b117d",
   "metadata": {},
   "source": [
    "### 4.2 RandomForestClassifier"
   ]
  },
  {
   "cell_type": "code",
   "execution_count": 62,
   "id": "dc33d239-9815-493d-be55-ed1e93ec53cb",
   "metadata": {},
   "outputs": [],
   "source": [
    "from sklearn.ensemble import RandomForestClassifier"
   ]
  },
  {
   "cell_type": "code",
   "execution_count": 63,
   "id": "0058df5b-4c96-44bd-8103-755b027549d9",
   "metadata": {},
   "outputs": [],
   "source": [
    "clf_rand = RandomForestClassifier(random_state=2022)"
   ]
  },
  {
   "cell_type": "code",
   "execution_count": 64,
   "id": "e8d4f9a6-e424-45f6-98b5-09cbdd775723",
   "metadata": {},
   "outputs": [],
   "source": [
    "param_grid = {\n",
    "    'n_estimators': [100],\n",
    "    'max_depth': [5, 6, 7, 8, 9, 10, 11, 12],\n",
    "    'min_samples_split': [2, 3, 4, 5, 6, 7, 8, 9, 10],\n",
    "    'max_features': [\"auto\", \"sqrt\", \"log2\"]}"
   ]
  },
  {
   "cell_type": "code",
   "execution_count": 65,
   "id": "1f13ee72-46bb-4b80-8840-197b45523efb",
   "metadata": {},
   "outputs": [
    {
     "data": {
      "text/plain": [
       "GridSearchCV(cv=[(array([ 0,  1,  2,  3,  4,  5,  6,  7,  8,  9, 10, 11, 12, 13, 14, 15, 16,\n",
       "       17, 18, 19, 20, 21, 22, 23, 24, 25, 26, 27, 28, 29, 30, 31, 32, 33,\n",
       "       34, 35, 36, 37, 38, 39]),\n",
       "                  array([40, 41, 42, 43, 44, 45, 46, 47, 48, 49])),\n",
       "                 (array([ 0,  1,  2,  3,  4,  5,  6,  7,  8,  9, 10, 11, 12, 13, 14, 15, 16,\n",
       "       17, 18, 19, 20, 21, 22, 23, 24, 25, 26, 27, 28, 29, 30, 31, 32, 33,\n",
       "       34, 35, 36, 37, 38, 39, 40, 41, 42, 43, 44, 45, 46, 47, 48, 49]),\n",
       "                  array([50, 51, 52, 53, 54, 5...\n",
       "       51, 52, 53, 54, 55, 56, 57, 58, 59, 60, 61, 62, 63, 64, 65, 66, 67,\n",
       "       68, 69, 70, 71, 72, 73, 74, 75, 76, 77, 78, 79]),\n",
       "                  array([80, 81, 82, 83, 84, 85, 86, 87, 88, 89]))],\n",
       "             estimator=RandomForestClassifier(random_state=2022), n_jobs=-1,\n",
       "             param_grid={'max_depth': [5, 6, 7, 8, 9, 10, 11, 12],\n",
       "                         'max_features': ['auto', 'sqrt', 'log2'],\n",
       "                         'min_samples_split': [2, 3, 4, 5, 6, 7, 8, 9, 10],\n",
       "                         'n_estimators': [100]},\n",
       "             scoring='f1')"
      ]
     },
     "execution_count": 65,
     "metadata": {},
     "output_type": "execute_result"
    }
   ],
   "source": [
    "grid = GridSearchCV(estimator=clf_rand, \n",
    "                    param_grid=param_grid, \n",
    "                    scoring=\"f1\", \n",
    "                    cv=cv_ls,\n",
    "                    n_jobs=-1)\n",
    "\n",
    "grid.fit(X_train, y_train)"
   ]
  },
  {
   "cell_type": "code",
   "execution_count": 66,
   "id": "716e1fb4-da1a-4927-befe-4ae4cab29060",
   "metadata": {},
   "outputs": [
    {
     "name": "stdout",
     "output_type": "stream",
     "text": [
      "0.6780219780219781\n",
      "RandomForestClassifier(max_depth=5, random_state=2022)\n",
      "{'max_depth': 5, 'max_features': 'auto', 'min_samples_split': 2, 'n_estimators': 100}\n"
     ]
    }
   ],
   "source": [
    "print(grid.best_score_)\n",
    "print(grid.best_estimator_)\n",
    "print(grid.best_params_)"
   ]
  },
  {
   "cell_type": "code",
   "execution_count": 67,
   "id": "681e444f-1888-49ea-974a-bb229788aa73",
   "metadata": {},
   "outputs": [
    {
     "data": {
      "text/plain": [
       "RandomForestClassifier(max_depth=5, random_state=2022)"
      ]
     },
     "execution_count": 67,
     "metadata": {},
     "output_type": "execute_result"
    }
   ],
   "source": [
    "opt_clf_rand = RandomForestClassifier(random_state=2022, max_depth= 5, max_features= 'auto', min_samples_split= 2, n_estimators=100)\n",
    "opt_clf_rand.fit(X_train, y_train)"
   ]
  },
  {
   "cell_type": "code",
   "execution_count": 68,
   "id": "e2f18e95-e02a-4d27-82ce-99adbeba05da",
   "metadata": {},
   "outputs": [],
   "source": [
    "y_train_opt_clf_rand = opt_clf_rand.predict(X_train)\n",
    "y_val_opt_clf_rand = opt_clf_rand.predict(X_val)"
   ]
  },
  {
   "cell_type": "code",
   "execution_count": 69,
   "id": "c063fbf5-b108-46da-b9c7-da7c6e4d1081",
   "metadata": {},
   "outputs": [],
   "source": [
    "acc =  accuracy_score(y_train, y_train_opt_clf_rand)\n",
    "cm = confusion_matrix(y_train, y_train_opt_clf_rand)"
   ]
  },
  {
   "cell_type": "code",
   "execution_count": 70,
   "id": "3182bba2-bd37-4278-a006-736589c2c95a",
   "metadata": {},
   "outputs": [
    {
     "name": "stdout",
     "output_type": "stream",
     "text": [
      "0.9888888888888889\n"
     ]
    }
   ],
   "source": [
    "print(acc)"
   ]
  },
  {
   "cell_type": "code",
   "execution_count": 71,
   "id": "4a880c27-b886-449d-8bf9-756ec6a40d85",
   "metadata": {},
   "outputs": [
    {
     "name": "stdout",
     "output_type": "stream",
     "text": [
      "[[56  0]\n",
      " [ 1 33]]\n"
     ]
    }
   ],
   "source": [
    "print(cm)"
   ]
  },
  {
   "cell_type": "code",
   "execution_count": 72,
   "id": "14efeb11-2dbc-427a-b653-e8ceab283d74",
   "metadata": {},
   "outputs": [
    {
     "name": "stdout",
     "output_type": "stream",
     "text": [
      "              precision    recall  f1-score   support\n",
      "\n",
      "         RSP       0.98      1.00      0.99        56\n",
      "         pro       1.00      0.97      0.99        34\n",
      "\n",
      "    accuracy                           0.99        90\n",
      "   macro avg       0.99      0.99      0.99        90\n",
      "weighted avg       0.99      0.99      0.99        90\n",
      "\n"
     ]
    }
   ],
   "source": [
    "print( classification_report(y_train, y_train_opt_clf_rand, target_names = ['RSP' , 'pro']))"
   ]
  },
  {
   "cell_type": "code",
   "execution_count": 73,
   "id": "fa174db5-c4bc-4e76-8877-b09b46560c71",
   "metadata": {},
   "outputs": [],
   "source": [
    "acc_val =  accuracy_score(y_val, y_val_opt_clf_rand)\n",
    "cm_val = confusion_matrix(y_val, y_val_opt_clf_rand)"
   ]
  },
  {
   "cell_type": "code",
   "execution_count": 74,
   "id": "21abfe9f-3079-4721-8d88-aedc73705b38",
   "metadata": {},
   "outputs": [
    {
     "name": "stdout",
     "output_type": "stream",
     "text": [
      "0.8666666666666667\n"
     ]
    }
   ],
   "source": [
    "print(acc_val)"
   ]
  },
  {
   "cell_type": "code",
   "execution_count": 75,
   "id": "ae7547e5-b1cf-4aac-b16d-363a648b71a1",
   "metadata": {},
   "outputs": [
    {
     "name": "stdout",
     "output_type": "stream",
     "text": [
      "[[10  1]\n",
      " [ 1  3]]\n"
     ]
    }
   ],
   "source": [
    "print(cm_val)"
   ]
  },
  {
   "cell_type": "code",
   "execution_count": 76,
   "id": "c281ef77-b425-4d25-b907-65b1f30a3992",
   "metadata": {},
   "outputs": [
    {
     "name": "stdout",
     "output_type": "stream",
     "text": [
      "              precision    recall  f1-score   support\n",
      "\n",
      "         RSP       0.91      0.91      0.91        11\n",
      "         pro       0.75      0.75      0.75         4\n",
      "\n",
      "    accuracy                           0.87        15\n",
      "   macro avg       0.83      0.83      0.83        15\n",
      "weighted avg       0.87      0.87      0.87        15\n",
      "\n"
     ]
    }
   ],
   "source": [
    "print( classification_report(y_val, y_val_opt_clf_rand, target_names = ['RSP' , 'pro']))"
   ]
  },
  {
   "cell_type": "code",
   "execution_count": 77,
   "id": "d4d89143-c4d1-46f4-9503-69871ce399b0",
   "metadata": {},
   "outputs": [
    {
     "name": "stderr",
     "output_type": "stream",
     "text": [
      "C:\\Users\\Mos\\AppData\\Local\\Temp\\ipykernel_15244\\2038515974.py:1: SettingWithCopyWarning: \n",
      "A value is trying to be set on a copy of a slice from a DataFrame.\n",
      "Try using .loc[row_indexer,col_indexer] = value instead\n",
      "\n",
      "See the caveats in the documentation: https://pandas.pydata.org/pandas-docs/stable/user_guide/indexing.html#returning-a-view-versus-a-copy\n",
      "  train[\"clf_rand\"] = y_train_opt_clf_rand\n",
      "C:\\Users\\Mos\\AppData\\Local\\Temp\\ipykernel_15244\\2038515974.py:2: SettingWithCopyWarning: \n",
      "A value is trying to be set on a copy of a slice from a DataFrame.\n",
      "Try using .loc[row_indexer,col_indexer] = value instead\n",
      "\n",
      "See the caveats in the documentation: https://pandas.pydata.org/pandas-docs/stable/user_guide/indexing.html#returning-a-view-versus-a-copy\n",
      "  valid[\"clf_rand\"] = y_val_opt_clf_rand\n"
     ]
    }
   ],
   "source": [
    "train[\"clf_rand\"] = y_train_opt_clf_rand\n",
    "valid[\"clf_rand\"] = y_val_opt_clf_rand"
   ]
  },
  {
   "cell_type": "code",
   "execution_count": 78,
   "id": "c2fee9cc-829e-4f2a-8581-8aa2febbc2da",
   "metadata": {},
   "outputs": [
    {
     "data": {
      "text/plain": [
       "<AxesSubplot: xlabel='date', ylabel='offtake'>"
      ]
     },
     "execution_count": 78,
     "metadata": {},
     "output_type": "execute_result"
    },
    {
     "data": {
      "image/png": "[encoded data removed]",
      "text/plain": [
       "<Figure size 2000x200 with 1 Axes>"
      ]
     },
     "metadata": {},
     "output_type": "display_data"
    }
   ],
   "source": [
    "plt.figure(figsize=(20, 2))\n",
    "sns.lineplot(data=train, x=\"date\", y=\"offtake\", marker='o', linestyle='',hue=\"pro_class\")"
   ]
  },
  {
   "cell_type": "code",
   "execution_count": 79,
   "id": "0e0c7357-be0d-443c-bf1f-fe7f25c7faf6",
   "metadata": {},
   "outputs": [
    {
     "data": {
      "text/plain": [
       "<AxesSubplot: xlabel='date', ylabel='offtake'>"
      ]
     },
     "execution_count": 79,
     "metadata": {},
     "output_type": "execute_result"
    },
    {
     "data": {
      "image/png": "[encoded data removed]",
      "text/plain": [
       "<Figure size 2000x200 with 1 Axes>"
      ]
     },
     "metadata": {},
     "output_type": "display_data"
    }
   ],
   "source": [
    "plt.figure(figsize=(20, 2))\n",
    "sns.lineplot(data=train, x=\"date\", y=\"offtake\", marker='o', linestyle='',hue=\"clf_rand\")"
   ]
  },
  {
   "cell_type": "code",
   "execution_count": 80,
   "id": "2f764853-4e32-4129-92ec-a7220208a43e",
   "metadata": {},
   "outputs": [
    {
     "data": {
      "text/plain": [
       "<AxesSubplot: xlabel='date', ylabel='offtake'>"
      ]
     },
     "execution_count": 80,
     "metadata": {},
     "output_type": "execute_result"
    },
    {
     "data": {
      "image/png": "[encoded data removed]",
      "text/plain": [
       "<Figure size 2000x200 with 1 Axes>"
      ]
     },
     "metadata": {},
     "output_type": "display_data"
    }
   ],
   "source": [
    "plt.figure(figsize=(20, 2))\n",
    "sns.lineplot(data=valid, x=\"date\", y=\"offtake\", marker='o', linestyle='',hue=\"pro_class\")"
   ]
  },
  {
   "cell_type": "code",
   "execution_count": 81,
   "id": "1ef384e1-9ad0-4a2a-bbde-f4e7c6c6bfc0",
   "metadata": {},
   "outputs": [
    {
     "data": {
      "text/plain": [
       "<AxesSubplot: xlabel='date', ylabel='offtake'>"
      ]
     },
     "execution_count": 81,
     "metadata": {},
     "output_type": "execute_result"
    },
    {
     "data": {
      "image/png": "[encoded data removed]",
      "text/plain": [
       "<Figure size 2000x200 with 1 Axes>"
      ]
     },
     "metadata": {},
     "output_type": "display_data"
    }
   ],
   "source": [
    "plt.figure(figsize=(20, 2))\n",
    "sns.lineplot(data=valid, x=\"date\", y=\"offtake\", marker='o', linestyle='',hue=\"clf_rand\")"
   ]
  },
  {
   "cell_type": "markdown",
   "id": "4ddc2f08-f7a1-43d8-bd95-d9b9d62fd60e",
   "metadata": {},
   "source": [
    "### 4.3 XGBClassifier"
   ]
  },
  {
   "cell_type": "code",
   "execution_count": 82,
   "id": "7355f9e4-dc89-4089-8573-0d98058cddf9",
   "metadata": {},
   "outputs": [
    {
     "name": "stdout",
     "output_type": "stream",
     "text": [
      "Requirement already satisfied: xgboost in c:\\users\\mos\\anaconda3\\envs\\supervise\\lib\\site-packages (1.7.2)\n",
      "Requirement already satisfied: numpy in c:\\users\\mos\\anaconda3\\envs\\supervise\\lib\\site-packages (from xgboost) (1.22.4)\n",
      "Requirement already satisfied: scipy in c:\\users\\mos\\anaconda3\\envs\\supervise\\lib\\site-packages (from xgboost) (1.7.3)\n",
      "Note: you may need to restart the kernel to use updated packages.\n"
     ]
    }
   ],
   "source": [
    "pip install xgboost"
   ]
  },
  {
   "cell_type": "code",
   "execution_count": 83,
   "id": "34ab36b6-85bb-494d-b317-15fb619e9ad9",
   "metadata": {},
   "outputs": [],
   "source": [
    "from xgboost import XGBClassifier"
   ]
  },
  {
   "cell_type": "code",
   "execution_count": 84,
   "id": "272e5ccc-3e44-4e3e-97d0-d1e95cc9cf04",
   "metadata": {},
   "outputs": [],
   "source": [
    "clf_xgb = XGBClassifier(random_state=2022)"
   ]
  },
  {
   "cell_type": "code",
   "execution_count": 85,
   "id": "828ebd59-fa84-4b9a-8a22-f6ac5bddf38f",
   "metadata": {},
   "outputs": [],
   "source": [
    "param_grid = {\n",
    "    'max_depth': [3, 6, 10, 15],\n",
    "    'learning_rate': [0.01, 0.1, 0.2, 0.3],\n",
    "    'colsample_bytree': np.arange(0.4, 1.0),\n",
    "    'n_estimators': [100, 500, 1000]\n",
    "}"
   ]
  },
  {
   "cell_type": "code",
   "execution_count": 86,
   "id": "df62b820-747d-4c2e-8ef4-c138c999b06e",
   "metadata": {},
   "outputs": [
    {
     "data": {
      "text/plain": [
       "GridSearchCV(cv=[(array([ 0,  1,  2,  3,  4,  5,  6,  7,  8,  9, 10, 11, 12, 13, 14, 15, 16,\n",
       "       17, 18, 19, 20, 21, 22, 23, 24, 25, 26, 27, 28, 29, 30, 31, 32, 33,\n",
       "       34, 35, 36, 37, 38, 39]),\n",
       "                  array([40, 41, 42, 43, 44, 45, 46, 47, 48, 49])),\n",
       "                 (array([ 0,  1,  2,  3,  4,  5,  6,  7,  8,  9, 10, 11, 12, 13, 14, 15, 16,\n",
       "       17, 18, 19, 20, 21, 22, 23, 24, 25, 26, 27, 28, 29, 30, 31, 32, 33,\n",
       "       34, 35, 36, 37, 38, 39, 40, 41, 42, 43, 44, 45, 46, 47, 48, 49]),\n",
       "                  array([50, 51, 52, 53, 54, 5...\n",
       "                                     max_delta_step=None, max_depth=None,\n",
       "                                     max_leaves=None, min_child_weight=None,\n",
       "                                     missing=nan, monotone_constraints=None,\n",
       "                                     n_estimators=100, n_jobs=None,\n",
       "                                     num_parallel_tree=None, predictor=None,\n",
       "                                     random_state=2022, ...),\n",
       "             n_jobs=-1,\n",
       "             param_grid={'colsample_bytree': array([0.4]),\n",
       "                         'learning_rate': [0.01, 0.1, 0.2, 0.3],\n",
       "                         'max_depth': [3, 6, 10, 15],\n",
       "                         'n_estimators': [100, 500, 1000]},\n",
       "             scoring='f1')"
      ]
     },
     "execution_count": 86,
     "metadata": {},
     "output_type": "execute_result"
    }
   ],
   "source": [
    "grid = GridSearchCV(estimator=clf_xgb, \n",
    "                    param_grid=param_grid, \n",
    "                    scoring=\"f1\", \n",
    "                    cv=cv_ls,\n",
    "                    n_jobs=-1)\n",
    "\n",
    "grid.fit(X_train, y_train)"
   ]
  },
  {
   "cell_type": "code",
   "execution_count": 87,
   "id": "d1cfacd4-f2a0-48ed-8b9f-8a30c7e9c355",
   "metadata": {},
   "outputs": [
    {
     "name": "stdout",
     "output_type": "stream",
     "text": [
      "0.719047619047619\n",
      "{'colsample_bytree': 0.4, 'learning_rate': 0.01, 'max_depth': 3, 'n_estimators': 500}\n"
     ]
    }
   ],
   "source": [
    "print(grid.best_score_)\n",
    "print(grid.best_params_)"
   ]
  },
  {
   "cell_type": "code",
   "execution_count": 88,
   "id": "e9492672-7ef7-4cbf-aa95-e9c872c1d572",
   "metadata": {},
   "outputs": [
    {
     "data": {
      "text/plain": [
       "XGBClassifier(base_score=0.5, booster='gbtree', callbacks=None,\n",
       "              colsample_bylevel=1, colsample_bynode=1, colsample_bytree=0.4,\n",
       "              early_stopping_rounds=None, enable_categorical=False,\n",
       "              eval_metric=None, feature_types=None, gamma=0, gpu_id=-1,\n",
       "              grow_policy='depthwise', importance_type=None,\n",
       "              interaction_constraints='', learning_rate=0.01, max_bin=256,\n",
       "              max_cat_threshold=64, max_cat_to_onehot=4, max_delta_step=0,\n",
       "              max_depth=3, max_leaves=0, min_child_weight=1, missing=nan,\n",
       "              monotone_constraints='()', n_estimators=500, n_jobs=0,\n",
       "              num_parallel_tree=1, predictor='auto', random_state=0, ...)"
      ]
     },
     "execution_count": 88,
     "metadata": {},
     "output_type": "execute_result"
    }
   ],
   "source": [
    "opt_clf_xgb = XGBClassifier(max_depth=3, learning_rate=0.01, colsample_bytree=0.4, n_estimators=500)\n",
    "opt_clf_xgb.fit(X_train, y_train)"
   ]
  },
  {
   "cell_type": "code",
   "execution_count": 89,
   "id": "adbb1df3-c0f9-4350-b903-4b06a15eebbf",
   "metadata": {},
   "outputs": [],
   "source": [
    "y_train_opt_clf_xgb = opt_clf_xgb.predict(X_train)\n",
    "y_val_opt_clf_xgb = opt_clf_xgb.predict(X_val)"
   ]
  },
  {
   "cell_type": "code",
   "execution_count": 90,
   "id": "b20732d8-3966-42f6-8111-52d75ab13f56",
   "metadata": {},
   "outputs": [],
   "source": [
    "acc =  accuracy_score(y_train, y_train_opt_clf_xgb)\n",
    "cm = confusion_matrix(y_train, y_train_opt_clf_xgb)"
   ]
  },
  {
   "cell_type": "code",
   "execution_count": 91,
   "id": "59eb413f-31e8-4c6f-a481-73bf4424861d",
   "metadata": {},
   "outputs": [
    {
     "name": "stdout",
     "output_type": "stream",
     "text": [
      "0.9888888888888889\n"
     ]
    }
   ],
   "source": [
    "print(acc)"
   ]
  },
  {
   "cell_type": "code",
   "execution_count": 92,
   "id": "98390aa5-87d9-4401-ae14-5ff73435e05c",
   "metadata": {},
   "outputs": [
    {
     "name": "stdout",
     "output_type": "stream",
     "text": [
      "[[56  0]\n",
      " [ 1 33]]\n"
     ]
    }
   ],
   "source": [
    "print(cm)"
   ]
  },
  {
   "cell_type": "code",
   "execution_count": 93,
   "id": "299832af-0201-4405-a888-c03f734b883e",
   "metadata": {},
   "outputs": [
    {
     "name": "stdout",
     "output_type": "stream",
     "text": [
      "              precision    recall  f1-score   support\n",
      "\n",
      "         RSP       0.98      1.00      0.99        56\n",
      "         pro       1.00      0.97      0.99        34\n",
      "\n",
      "    accuracy                           0.99        90\n",
      "   macro avg       0.99      0.99      0.99        90\n",
      "weighted avg       0.99      0.99      0.99        90\n",
      "\n"
     ]
    }
   ],
   "source": [
    "print( classification_report(y_train, y_train_opt_clf_xgb, target_names = ['RSP' , 'pro']))"
   ]
  },
  {
   "cell_type": "code",
   "execution_count": 94,
   "id": "5b4e2f79-8469-4fc9-a48b-4e8a7d4b9b6d",
   "metadata": {},
   "outputs": [],
   "source": [
    "acc_val =  accuracy_score(y_val, y_val_opt_clf_xgb)\n",
    "cm_val = confusion_matrix(y_val, y_val_opt_clf_xgb)"
   ]
  },
  {
   "cell_type": "code",
   "execution_count": 95,
   "id": "186f8e37-18d1-4626-acba-08463c85d9e8",
   "metadata": {},
   "outputs": [
    {
     "name": "stdout",
     "output_type": "stream",
     "text": [
      "0.8666666666666667\n"
     ]
    }
   ],
   "source": [
    "print(acc_val)"
   ]
  },
  {
   "cell_type": "code",
   "execution_count": 96,
   "id": "c99a5844-d827-4518-a904-78ce37dbb807",
   "metadata": {},
   "outputs": [
    {
     "name": "stdout",
     "output_type": "stream",
     "text": [
      "[[10  1]\n",
      " [ 1  3]]\n"
     ]
    }
   ],
   "source": [
    "print(cm_val)"
   ]
  },
  {
   "cell_type": "code",
   "execution_count": 97,
   "id": "1a876f68-adc6-45c2-a133-733a70a91398",
   "metadata": {},
   "outputs": [
    {
     "name": "stdout",
     "output_type": "stream",
     "text": [
      "              precision    recall  f1-score   support\n",
      "\n",
      "         RSP       0.91      0.91      0.91        11\n",
      "         pro       0.75      0.75      0.75         4\n",
      "\n",
      "    accuracy                           0.87        15\n",
      "   macro avg       0.83      0.83      0.83        15\n",
      "weighted avg       0.87      0.87      0.87        15\n",
      "\n"
     ]
    }
   ],
   "source": [
    "print( classification_report(y_val, y_val_opt_clf_xgb, target_names = ['RSP' , 'pro']))"
   ]
  },
  {
   "cell_type": "code",
   "execution_count": 98,
   "id": "764c0ca8-3516-4fa9-82fd-991128f96ef1",
   "metadata": {},
   "outputs": [
    {
     "name": "stderr",
     "output_type": "stream",
     "text": [
      "C:\\Users\\Mos\\AppData\\Local\\Temp\\ipykernel_15244\\3118524262.py:1: SettingWithCopyWarning: \n",
      "A value is trying to be set on a copy of a slice from a DataFrame.\n",
      "Try using .loc[row_indexer,col_indexer] = value instead\n",
      "\n",
      "See the caveats in the documentation: https://pandas.pydata.org/pandas-docs/stable/user_guide/indexing.html#returning-a-view-versus-a-copy\n",
      "  train[\"clf_xgb\"] = y_train_opt_clf_xgb\n",
      "C:\\Users\\Mos\\AppData\\Local\\Temp\\ipykernel_15244\\3118524262.py:2: SettingWithCopyWarning: \n",
      "A value is trying to be set on a copy of a slice from a DataFrame.\n",
      "Try using .loc[row_indexer,col_indexer] = value instead\n",
      "\n",
      "See the caveats in the documentation: https://pandas.pydata.org/pandas-docs/stable/user_guide/indexing.html#returning-a-view-versus-a-copy\n",
      "  valid[\"clf_xgb\"] = y_val_opt_clf_xgb\n"
     ]
    }
   ],
   "source": [
    "train[\"clf_xgb\"] = y_train_opt_clf_xgb\n",
    "valid[\"clf_xgb\"] = y_val_opt_clf_xgb"
   ]
  },
  {
   "cell_type": "code",
   "execution_count": 99,
   "id": "ee384c8f-d073-497a-afdf-f5ffc0d7b9f7",
   "metadata": {},
   "outputs": [
    {
     "data": {
      "text/plain": [
       "<AxesSubplot: xlabel='date', ylabel='offtake'>"
      ]
     },
     "execution_count": 99,
     "metadata": {},
     "output_type": "execute_result"
    },
    {
     "data": {
      "image/png": "[encoded data removed]",
      "text/plain": [
       "<Figure size 2000x200 with 1 Axes>"
      ]
     },
     "metadata": {},
     "output_type": "display_data"
    }
   ],
   "source": [
    "plt.figure(figsize=(20, 2))\n",
    "sns.lineplot(data=train, x=\"date\", y=\"offtake\", marker='o', linestyle='',hue=\"pro_class\")"
   ]
  },
  {
   "cell_type": "code",
   "execution_count": 100,
   "id": "110143db-cbbd-4970-a161-a74a8c0dda6f",
   "metadata": {},
   "outputs": [
    {
     "data": {
      "text/plain": [
       "<AxesSubplot: xlabel='date', ylabel='offtake'>"
      ]
     },
     "execution_count": 100,
     "metadata": {},
     "output_type": "execute_result"
    },
    {
     "data": {
      "image/png": "[encoded data removed]",
      "text/plain": [
       "<Figure size 2000x200 with 1 Axes>"
      ]
     },
     "metadata": {},
     "output_type": "display_data"
    }
   ],
   "source": [
    "plt.figure(figsize=(20, 2))\n",
    "sns.lineplot(data=train, x=\"date\", y=\"offtake\", marker='o', linestyle='',hue=\"clf_xgb\")"
   ]
  },
  {
   "cell_type": "code",
   "execution_count": 101,
   "id": "d14cdb9a-c6a7-4ba1-99af-10866ea68c5c",
   "metadata": {},
   "outputs": [
    {
     "data": {
      "text/plain": [
       "<AxesSubplot: xlabel='date', ylabel='offtake'>"
      ]
     },
     "execution_count": 101,
     "metadata": {},
     "output_type": "execute_result"
    },
    {
     "data": {
      "image/png": "[encoded data removed]",
      "text/plain": [
       "<Figure size 2000x200 with 1 Axes>"
      ]
     },
     "metadata": {},
     "output_type": "display_data"
    }
   ],
   "source": [
    "plt.figure(figsize=(20, 2))\n",
    "sns.lineplot(data=valid, x=\"date\", y=\"offtake\", marker='o', linestyle='',hue=\"pro_class\")"
   ]
  },
  {
   "cell_type": "code",
   "execution_count": 102,
   "id": "00753025-5cb5-476f-827a-4d4112344114",
   "metadata": {},
   "outputs": [
    {
     "data": {
      "text/plain": [
       "<AxesSubplot: xlabel='date', ylabel='offtake'>"
      ]
     },
     "execution_count": 102,
     "metadata": {},
     "output_type": "execute_result"
    },
    {
     "data": {
      "image/png": "[encoded data removed]",
      "text/plain": [
       "<Figure size 2000x200 with 1 Axes>"
      ]
     },
     "metadata": {},
     "output_type": "display_data"
    }
   ],
   "source": [
    "plt.figure(figsize=(20, 2))\n",
    "sns.lineplot(data=valid, x=\"date\", y=\"offtake\", marker='o', linestyle='',hue=\"clf_xgb\")"
   ]
  },
  {
   "cell_type": "code",
   "execution_count": 103,
   "id": "161532b0-80fa-4891-b3ec-23d459ee4e0b",
   "metadata": {},
   "outputs": [
    {
     "data": {
      "text/html": [
       "<div>\n",
       "<style scoped>\n",
       "    .dataframe tbody tr th:only-of-type {\n",
       "        vertical-align: middle;\n",
       "    }\n",
       "\n",
       "    .dataframe tbody tr th {\n",
       "        vertical-align: top;\n",
       "    }\n",
       "\n",
       "    .dataframe thead th {\n",
       "        text-align: right;\n",
       "    }\n",
       "</style>\n",
       "<table border=\"1\" class=\"dataframe\">\n",
       "  <thead>\n",
       "    <tr style=\"text-align: right;\">\n",
       "      <th></th>\n",
       "      <th>date</th>\n",
       "      <th>year</th>\n",
       "      <th>month</th>\n",
       "      <th>week_of_year</th>\n",
       "      <th>sales_in</th>\n",
       "      <th>stores</th>\n",
       "      <th>offtake</th>\n",
       "      <th>pro</th>\n",
       "      <th>pro_class</th>\n",
       "      <th>baseline</th>\n",
       "      <th>clf_rand</th>\n",
       "      <th>clf_xgb</th>\n",
       "    </tr>\n",
       "  </thead>\n",
       "  <tbody>\n",
       "    <tr>\n",
       "      <th>0</th>\n",
       "      <td>2020-07-13</td>\n",
       "      <td>2020</td>\n",
       "      <td>7</td>\n",
       "      <td>29</td>\n",
       "      <td>4170</td>\n",
       "      <td>19336</td>\n",
       "      <td>5.5161</td>\n",
       "      <td>RSP</td>\n",
       "      <td>0</td>\n",
       "      <td>0</td>\n",
       "      <td>0</td>\n",
       "      <td>0</td>\n",
       "    </tr>\n",
       "    <tr>\n",
       "      <th>1</th>\n",
       "      <td>2020-07-20</td>\n",
       "      <td>2020</td>\n",
       "      <td>7</td>\n",
       "      <td>30</td>\n",
       "      <td>35</td>\n",
       "      <td>21440</td>\n",
       "      <td>8.2377</td>\n",
       "      <td>2for</td>\n",
       "      <td>1</td>\n",
       "      <td>1</td>\n",
       "      <td>1</td>\n",
       "      <td>1</td>\n",
       "    </tr>\n",
       "    <tr>\n",
       "      <th>2</th>\n",
       "      <td>2020-07-27</td>\n",
       "      <td>2020</td>\n",
       "      <td>7</td>\n",
       "      <td>31</td>\n",
       "      <td>256</td>\n",
       "      <td>24646</td>\n",
       "      <td>11.9070</td>\n",
       "      <td>2for</td>\n",
       "      <td>1</td>\n",
       "      <td>1</td>\n",
       "      <td>1</td>\n",
       "      <td>1</td>\n",
       "    </tr>\n",
       "    <tr>\n",
       "      <th>3</th>\n",
       "      <td>2020-08-03</td>\n",
       "      <td>2020</td>\n",
       "      <td>8</td>\n",
       "      <td>32</td>\n",
       "      <td>756</td>\n",
       "      <td>23780</td>\n",
       "      <td>11.1780</td>\n",
       "      <td>2for</td>\n",
       "      <td>1</td>\n",
       "      <td>1</td>\n",
       "      <td>1</td>\n",
       "      <td>1</td>\n",
       "    </tr>\n",
       "    <tr>\n",
       "      <th>4</th>\n",
       "      <td>2020-08-10</td>\n",
       "      <td>2020</td>\n",
       "      <td>8</td>\n",
       "      <td>33</td>\n",
       "      <td>452</td>\n",
       "      <td>23017</td>\n",
       "      <td>10.2789</td>\n",
       "      <td>2for</td>\n",
       "      <td>1</td>\n",
       "      <td>1</td>\n",
       "      <td>1</td>\n",
       "      <td>1</td>\n",
       "    </tr>\n",
       "    <tr>\n",
       "      <th>...</th>\n",
       "      <td>...</td>\n",
       "      <td>...</td>\n",
       "      <td>...</td>\n",
       "      <td>...</td>\n",
       "      <td>...</td>\n",
       "      <td>...</td>\n",
       "      <td>...</td>\n",
       "      <td>...</td>\n",
       "      <td>...</td>\n",
       "      <td>...</td>\n",
       "      <td>...</td>\n",
       "      <td>...</td>\n",
       "    </tr>\n",
       "    <tr>\n",
       "      <th>85</th>\n",
       "      <td>2022-05-16</td>\n",
       "      <td>2022</td>\n",
       "      <td>5</td>\n",
       "      <td>20</td>\n",
       "      <td>268</td>\n",
       "      <td>10340</td>\n",
       "      <td>7.8975</td>\n",
       "      <td>RSP</td>\n",
       "      <td>0</td>\n",
       "      <td>0</td>\n",
       "      <td>0</td>\n",
       "      <td>0</td>\n",
       "    </tr>\n",
       "    <tr>\n",
       "      <th>86</th>\n",
       "      <td>2022-05-23</td>\n",
       "      <td>2022</td>\n",
       "      <td>5</td>\n",
       "      <td>21</td>\n",
       "      <td>110</td>\n",
       "      <td>9968</td>\n",
       "      <td>7.1442</td>\n",
       "      <td>RSP</td>\n",
       "      <td>0</td>\n",
       "      <td>0</td>\n",
       "      <td>0</td>\n",
       "      <td>0</td>\n",
       "    </tr>\n",
       "    <tr>\n",
       "      <th>87</th>\n",
       "      <td>2022-05-30</td>\n",
       "      <td>2022</td>\n",
       "      <td>5</td>\n",
       "      <td>22</td>\n",
       "      <td>0</td>\n",
       "      <td>10440</td>\n",
       "      <td>7.9704</td>\n",
       "      <td>RSP</td>\n",
       "      <td>0</td>\n",
       "      <td>0</td>\n",
       "      <td>0</td>\n",
       "      <td>0</td>\n",
       "    </tr>\n",
       "    <tr>\n",
       "      <th>88</th>\n",
       "      <td>2022-06-06</td>\n",
       "      <td>2022</td>\n",
       "      <td>6</td>\n",
       "      <td>23</td>\n",
       "      <td>0</td>\n",
       "      <td>8457</td>\n",
       "      <td>5.8563</td>\n",
       "      <td>RSP</td>\n",
       "      <td>0</td>\n",
       "      <td>0</td>\n",
       "      <td>0</td>\n",
       "      <td>0</td>\n",
       "    </tr>\n",
       "    <tr>\n",
       "      <th>89</th>\n",
       "      <td>2022-06-13</td>\n",
       "      <td>2022</td>\n",
       "      <td>6</td>\n",
       "      <td>24</td>\n",
       "      <td>0</td>\n",
       "      <td>7587</td>\n",
       "      <td>5.5161</td>\n",
       "      <td>RSP</td>\n",
       "      <td>0</td>\n",
       "      <td>0</td>\n",
       "      <td>0</td>\n",
       "      <td>0</td>\n",
       "    </tr>\n",
       "  </tbody>\n",
       "</table>\n",
       "<p>90 rows × 12 columns</p>\n",
       "</div>"
      ],
      "text/plain": [
       "         date  year  month  week_of_year  sales_in  stores  offtake   pro  \\\n",
       "0  2020-07-13  2020      7            29      4170   19336   5.5161   RSP   \n",
       "1  2020-07-20  2020      7            30        35   21440   8.2377  2for   \n",
       "2  2020-07-27  2020      7            31       256   24646  11.9070  2for   \n",
       "3  2020-08-03  2020      8            32       756   23780  11.1780  2for   \n",
       "4  2020-08-10  2020      8            33       452   23017  10.2789  2for   \n",
       "..        ...   ...    ...           ...       ...     ...      ...   ...   \n",
       "85 2022-05-16  2022      5            20       268   10340   7.8975   RSP   \n",
       "86 2022-05-23  2022      5            21       110    9968   7.1442   RSP   \n",
       "87 2022-05-30  2022      5            22         0   10440   7.9704   RSP   \n",
       "88 2022-06-06  2022      6            23         0    8457   5.8563   RSP   \n",
       "89 2022-06-13  2022      6            24         0    7587   5.5161   RSP   \n",
       "\n",
       "    pro_class  baseline  clf_rand  clf_xgb  \n",
       "0           0         0         0        0  \n",
       "1           1         1         1        1  \n",
       "2           1         1         1        1  \n",
       "3           1         1         1        1  \n",
       "4           1         1         1        1  \n",
       "..        ...       ...       ...      ...  \n",
       "85          0         0         0        0  \n",
       "86          0         0         0        0  \n",
       "87          0         0         0        0  \n",
       "88          0         0         0        0  \n",
       "89          0         0         0        0  \n",
       "\n",
       "[90 rows x 12 columns]"
      ]
     },
     "execution_count": 103,
     "metadata": {},
     "output_type": "execute_result"
    }
   ],
   "source": [
    "train"
   ]
  },
  {
   "cell_type": "code",
   "execution_count": 104,
   "id": "a2b9f028-2a66-4cb8-bb0b-7feec46579f7",
   "metadata": {},
   "outputs": [
    {
     "data": {
      "text/html": [
       "<div>\n",
       "<style scoped>\n",
       "    .dataframe tbody tr th:only-of-type {\n",
       "        vertical-align: middle;\n",
       "    }\n",
       "\n",
       "    .dataframe tbody tr th {\n",
       "        vertical-align: top;\n",
       "    }\n",
       "\n",
       "    .dataframe thead th {\n",
       "        text-align: right;\n",
       "    }\n",
       "</style>\n",
       "<table border=\"1\" class=\"dataframe\">\n",
       "  <thead>\n",
       "    <tr style=\"text-align: right;\">\n",
       "      <th></th>\n",
       "      <th>date</th>\n",
       "      <th>year</th>\n",
       "      <th>month</th>\n",
       "      <th>week_of_year</th>\n",
       "      <th>sales_in</th>\n",
       "      <th>stores</th>\n",
       "      <th>offtake</th>\n",
       "      <th>pro</th>\n",
       "      <th>pro_class</th>\n",
       "      <th>baseline</th>\n",
       "      <th>clf_rand</th>\n",
       "      <th>clf_xgb</th>\n",
       "    </tr>\n",
       "  </thead>\n",
       "  <tbody>\n",
       "    <tr>\n",
       "      <th>90</th>\n",
       "      <td>2022-06-20</td>\n",
       "      <td>2022</td>\n",
       "      <td>6</td>\n",
       "      <td>25</td>\n",
       "      <td>32</td>\n",
       "      <td>7011</td>\n",
       "      <td>5.4918</td>\n",
       "      <td>RSP</td>\n",
       "      <td>0</td>\n",
       "      <td>0</td>\n",
       "      <td>0</td>\n",
       "      <td>0</td>\n",
       "    </tr>\n",
       "    <tr>\n",
       "      <th>91</th>\n",
       "      <td>2022-06-27</td>\n",
       "      <td>2022</td>\n",
       "      <td>6</td>\n",
       "      <td>26</td>\n",
       "      <td>149</td>\n",
       "      <td>6865</td>\n",
       "      <td>5.8077</td>\n",
       "      <td>RSP</td>\n",
       "      <td>0</td>\n",
       "      <td>0</td>\n",
       "      <td>0</td>\n",
       "      <td>0</td>\n",
       "    </tr>\n",
       "    <tr>\n",
       "      <th>92</th>\n",
       "      <td>2022-07-04</td>\n",
       "      <td>2022</td>\n",
       "      <td>7</td>\n",
       "      <td>27</td>\n",
       "      <td>161</td>\n",
       "      <td>7468</td>\n",
       "      <td>6.3666</td>\n",
       "      <td>RSP</td>\n",
       "      <td>0</td>\n",
       "      <td>0</td>\n",
       "      <td>0</td>\n",
       "      <td>0</td>\n",
       "    </tr>\n",
       "    <tr>\n",
       "      <th>93</th>\n",
       "      <td>2022-07-11</td>\n",
       "      <td>2022</td>\n",
       "      <td>7</td>\n",
       "      <td>28</td>\n",
       "      <td>253</td>\n",
       "      <td>7616</td>\n",
       "      <td>7.0713</td>\n",
       "      <td>RSP</td>\n",
       "      <td>0</td>\n",
       "      <td>0</td>\n",
       "      <td>0</td>\n",
       "      <td>0</td>\n",
       "    </tr>\n",
       "    <tr>\n",
       "      <th>94</th>\n",
       "      <td>2022-07-18</td>\n",
       "      <td>2022</td>\n",
       "      <td>7</td>\n",
       "      <td>29</td>\n",
       "      <td>107</td>\n",
       "      <td>8933</td>\n",
       "      <td>11.2266</td>\n",
       "      <td>RSP</td>\n",
       "      <td>0</td>\n",
       "      <td>1</td>\n",
       "      <td>1</td>\n",
       "      <td>1</td>\n",
       "    </tr>\n",
       "    <tr>\n",
       "      <th>95</th>\n",
       "      <td>2022-07-25</td>\n",
       "      <td>2022</td>\n",
       "      <td>7</td>\n",
       "      <td>30</td>\n",
       "      <td>246</td>\n",
       "      <td>8454</td>\n",
       "      <td>10.7649</td>\n",
       "      <td>2for</td>\n",
       "      <td>1</td>\n",
       "      <td>1</td>\n",
       "      <td>1</td>\n",
       "      <td>1</td>\n",
       "    </tr>\n",
       "    <tr>\n",
       "      <th>96</th>\n",
       "      <td>2022-08-01</td>\n",
       "      <td>2022</td>\n",
       "      <td>8</td>\n",
       "      <td>31</td>\n",
       "      <td>329</td>\n",
       "      <td>8333</td>\n",
       "      <td>10.2546</td>\n",
       "      <td>2for</td>\n",
       "      <td>1</td>\n",
       "      <td>1</td>\n",
       "      <td>1</td>\n",
       "      <td>1</td>\n",
       "    </tr>\n",
       "    <tr>\n",
       "      <th>97</th>\n",
       "      <td>2022-08-08</td>\n",
       "      <td>2022</td>\n",
       "      <td>8</td>\n",
       "      <td>32</td>\n",
       "      <td>195</td>\n",
       "      <td>8095</td>\n",
       "      <td>10.1088</td>\n",
       "      <td>2for</td>\n",
       "      <td>1</td>\n",
       "      <td>1</td>\n",
       "      <td>1</td>\n",
       "      <td>1</td>\n",
       "    </tr>\n",
       "    <tr>\n",
       "      <th>98</th>\n",
       "      <td>2022-08-15</td>\n",
       "      <td>2022</td>\n",
       "      <td>8</td>\n",
       "      <td>33</td>\n",
       "      <td>256</td>\n",
       "      <td>7395</td>\n",
       "      <td>7.2900</td>\n",
       "      <td>2for</td>\n",
       "      <td>1</td>\n",
       "      <td>0</td>\n",
       "      <td>0</td>\n",
       "      <td>0</td>\n",
       "    </tr>\n",
       "    <tr>\n",
       "      <th>99</th>\n",
       "      <td>2022-08-22</td>\n",
       "      <td>2022</td>\n",
       "      <td>8</td>\n",
       "      <td>34</td>\n",
       "      <td>163</td>\n",
       "      <td>7167</td>\n",
       "      <td>6.3666</td>\n",
       "      <td>RSP</td>\n",
       "      <td>0</td>\n",
       "      <td>0</td>\n",
       "      <td>0</td>\n",
       "      <td>0</td>\n",
       "    </tr>\n",
       "    <tr>\n",
       "      <th>100</th>\n",
       "      <td>2022-08-29</td>\n",
       "      <td>2022</td>\n",
       "      <td>8</td>\n",
       "      <td>35</td>\n",
       "      <td>52</td>\n",
       "      <td>7553</td>\n",
       "      <td>7.9218</td>\n",
       "      <td>RSP</td>\n",
       "      <td>0</td>\n",
       "      <td>0</td>\n",
       "      <td>0</td>\n",
       "      <td>0</td>\n",
       "    </tr>\n",
       "    <tr>\n",
       "      <th>101</th>\n",
       "      <td>2022-09-05</td>\n",
       "      <td>2022</td>\n",
       "      <td>9</td>\n",
       "      <td>36</td>\n",
       "      <td>120</td>\n",
       "      <td>7371</td>\n",
       "      <td>7.1928</td>\n",
       "      <td>RSP</td>\n",
       "      <td>0</td>\n",
       "      <td>0</td>\n",
       "      <td>0</td>\n",
       "      <td>0</td>\n",
       "    </tr>\n",
       "    <tr>\n",
       "      <th>102</th>\n",
       "      <td>2022-09-12</td>\n",
       "      <td>2022</td>\n",
       "      <td>9</td>\n",
       "      <td>37</td>\n",
       "      <td>73</td>\n",
       "      <td>6809</td>\n",
       "      <td>6.2937</td>\n",
       "      <td>RSP</td>\n",
       "      <td>0</td>\n",
       "      <td>0</td>\n",
       "      <td>0</td>\n",
       "      <td>0</td>\n",
       "    </tr>\n",
       "    <tr>\n",
       "      <th>103</th>\n",
       "      <td>2022-09-19</td>\n",
       "      <td>2022</td>\n",
       "      <td>9</td>\n",
       "      <td>38</td>\n",
       "      <td>93</td>\n",
       "      <td>6812</td>\n",
       "      <td>6.3666</td>\n",
       "      <td>RSP</td>\n",
       "      <td>0</td>\n",
       "      <td>0</td>\n",
       "      <td>0</td>\n",
       "      <td>0</td>\n",
       "    </tr>\n",
       "    <tr>\n",
       "      <th>104</th>\n",
       "      <td>2022-09-26</td>\n",
       "      <td>2022</td>\n",
       "      <td>9</td>\n",
       "      <td>39</td>\n",
       "      <td>129</td>\n",
       "      <td>7023</td>\n",
       "      <td>6.3666</td>\n",
       "      <td>RSP</td>\n",
       "      <td>0</td>\n",
       "      <td>0</td>\n",
       "      <td>0</td>\n",
       "      <td>0</td>\n",
       "    </tr>\n",
       "  </tbody>\n",
       "</table>\n",
       "</div>"
      ],
      "text/plain": [
       "          date  year  month  week_of_year  sales_in  stores  offtake   pro  \\\n",
       "90  2022-06-20  2022      6            25        32    7011   5.4918   RSP   \n",
       "91  2022-06-27  2022      6            26       149    6865   5.8077   RSP   \n",
       "92  2022-07-04  2022      7            27       161    7468   6.3666   RSP   \n",
       "93  2022-07-11  2022      7            28       253    7616   7.0713   RSP   \n",
       "94  2022-07-18  2022      7            29       107    8933  11.2266   RSP   \n",
       "95  2022-07-25  2022      7            30       246    8454  10.7649  2for   \n",
       "96  2022-08-01  2022      8            31       329    8333  10.2546  2for   \n",
       "97  2022-08-08  2022      8            32       195    8095  10.1088  2for   \n",
       "98  2022-08-15  2022      8            33       256    7395   7.2900  2for   \n",
       "99  2022-08-22  2022      8            34       163    7167   6.3666   RSP   \n",
       "100 2022-08-29  2022      8            35        52    7553   7.9218   RSP   \n",
       "101 2022-09-05  2022      9            36       120    7371   7.1928   RSP   \n",
       "102 2022-09-12  2022      9            37        73    6809   6.2937   RSP   \n",
       "103 2022-09-19  2022      9            38        93    6812   6.3666   RSP   \n",
       "104 2022-09-26  2022      9            39       129    7023   6.3666   RSP   \n",
       "\n",
       "     pro_class  baseline  clf_rand  clf_xgb  \n",
       "90           0         0         0        0  \n",
       "91           0         0         0        0  \n",
       "92           0         0         0        0  \n",
       "93           0         0         0        0  \n",
       "94           0         1         1        1  \n",
       "95           1         1         1        1  \n",
       "96           1         1         1        1  \n",
       "97           1         1         1        1  \n",
       "98           1         0         0        0  \n",
       "99           0         0         0        0  \n",
       "100          0         0         0        0  \n",
       "101          0         0         0        0  \n",
       "102          0         0         0        0  \n",
       "103          0         0         0        0  \n",
       "104          0         0         0        0  "
      ]
     },
     "execution_count": 104,
     "metadata": {},
     "output_type": "execute_result"
    }
   ],
   "source": [
    "valid"
   ]
  },
  {
   "cell_type": "markdown",
   "id": "ffa3ed5e-b571-44d5-8740-3fd1ad1ed9f0",
   "metadata": {},
   "source": [
    "### Feature_importances"
   ]
  },
  {
   "cell_type": "code",
   "execution_count": 105,
   "id": "a6b32689-41ec-4fc8-95f0-4401695650d7",
   "metadata": {},
   "outputs": [],
   "source": [
    "feature_import = opt_clf_tree.feature_importances_\n",
    "feature_import = pd.Series(feature_import, features_columns).sort_values(ascending= True)"
   ]
  },
  {
   "cell_type": "code",
   "execution_count": 106,
   "id": "13a36c3a-5bec-46ae-87f6-3378033012d7",
   "metadata": {},
   "outputs": [
    {
     "data": {
      "text/plain": [
       "month           0.040839\n",
       "week_of_year    0.060917\n",
       "stores          0.112658\n",
       "sales_in        0.198842\n",
       "offtake         0.586745\n",
       "dtype: float64"
      ]
     },
     "execution_count": 106,
     "metadata": {},
     "output_type": "execute_result"
    }
   ],
   "source": [
    "feature_import"
   ]
  },
  {
   "cell_type": "code",
   "execution_count": 107,
   "id": "f307151b-0de2-466b-a823-2d6713a95217",
   "metadata": {},
   "outputs": [
    {
     "data": {
      "text/plain": [
       "<AxesSubplot: >"
      ]
     },
     "execution_count": 107,
     "metadata": {},
     "output_type": "execute_result"
    },
    {
     "data": {
      "image/png": "[encoded data removed]",
      "text/plain": [
       "<Figure size 640x480 with 1 Axes>"
      ]
     },
     "metadata": {},
     "output_type": "display_data"
    }
   ],
   "source": [
    "feature_import.plot(kind= 'barh')"
   ]
  },
  {
   "cell_type": "markdown",
   "id": "cd56060b-fccc-4251-ac33-ced9d34cb15a",
   "metadata": {},
   "source": [
    "### 4.4 guest model : Logistic Regression"
   ]
  },
  {
   "cell_type": "code",
   "execution_count": 108,
   "id": "386465da-c8b4-45e8-aaee-baf4f9ab47c0",
   "metadata": {},
   "outputs": [],
   "source": [
    "from sklearn.linear_model import LogisticRegression"
   ]
  },
  {
   "cell_type": "code",
   "execution_count": 109,
   "id": "92c67934-0e09-41e0-b3e5-d8b95953a9cf",
   "metadata": {},
   "outputs": [],
   "source": [
    "X_train_logis = train['offtake'].values\n",
    "X_val_logis = valid['offtake'].values\n",
    "\n",
    "y_train_logis = train['pro_class'].values\n",
    "y_val_logis = valid['pro_class'].values"
   ]
  },
  {
   "cell_type": "code",
   "execution_count": 110,
   "id": "f8c75772-ec5a-40e3-995b-921287af0062",
   "metadata": {},
   "outputs": [],
   "source": [
    "X_train_logis = X_train_logis.reshape(-1,1)\n",
    "X_val_logis = X_val_logis.reshape(-1,1)"
   ]
  },
  {
   "cell_type": "code",
   "execution_count": 111,
   "id": "3b0d2f65-38b3-4dff-8970-d6bf0e83f5f9",
   "metadata": {},
   "outputs": [
    {
     "data": {
      "text/plain": [
       "LogisticRegression(random_state=0)"
      ]
     },
     "execution_count": 111,
     "metadata": {},
     "output_type": "execute_result"
    }
   ],
   "source": [
    "LogReg_clf = LogisticRegression(random_state = 0)\n",
    "\n",
    "LogReg_clf.fit(X_train_logis, y_train_logis)"
   ]
  },
  {
   "cell_type": "code",
   "execution_count": 112,
   "id": "c6328a81-5151-4ef9-b101-5275fda2165c",
   "metadata": {},
   "outputs": [],
   "source": [
    "y_pre_train_logis = LogReg_clf.predict(X_train_logis)\n",
    "y_pred_val_logis = LogReg_clf.predict(X_val_logis)"
   ]
  },
  {
   "cell_type": "code",
   "execution_count": 113,
   "id": "c77da5c3-52c0-4798-8f8b-3ddff857cc5c",
   "metadata": {},
   "outputs": [
    {
     "name": "stderr",
     "output_type": "stream",
     "text": [
      "C:\\Users\\Mos\\AppData\\Local\\Temp\\ipykernel_15244\\1795958580.py:1: SettingWithCopyWarning: \n",
      "A value is trying to be set on a copy of a slice from a DataFrame.\n",
      "Try using .loc[row_indexer,col_indexer] = value instead\n",
      "\n",
      "See the caveats in the documentation: https://pandas.pydata.org/pandas-docs/stable/user_guide/indexing.html#returning-a-view-versus-a-copy\n",
      "  train[\"y_pre_train_logis\"] = y_pre_train_logis\n",
      "C:\\Users\\Mos\\AppData\\Local\\Temp\\ipykernel_15244\\1795958580.py:2: SettingWithCopyWarning: \n",
      "A value is trying to be set on a copy of a slice from a DataFrame.\n",
      "Try using .loc[row_indexer,col_indexer] = value instead\n",
      "\n",
      "See the caveats in the documentation: https://pandas.pydata.org/pandas-docs/stable/user_guide/indexing.html#returning-a-view-versus-a-copy\n",
      "  valid[\"y_pre_train_logis\"] = y_pred_val_logis\n"
     ]
    }
   ],
   "source": [
    "train[\"y_pre_train_logis\"] = y_pre_train_logis\n",
    "valid[\"y_pre_train_logis\"] = y_pred_val_logis"
   ]
  },
  {
   "cell_type": "code",
   "execution_count": 114,
   "id": "b4faac81-260e-4414-8618-06294066c5e7",
   "metadata": {},
   "outputs": [],
   "source": [
    "acc_test =  accuracy_score(y_train_logis, y_pre_train_logis)\n",
    "cm_test = confusion_matrix(y_train_logis, y_pre_train_logis)"
   ]
  },
  {
   "cell_type": "code",
   "execution_count": 115,
   "id": "f09cbd74-6ff1-42c1-b058-00325beeca84",
   "metadata": {},
   "outputs": [
    {
     "name": "stdout",
     "output_type": "stream",
     "text": [
      "0.7777777777777778\n"
     ]
    }
   ],
   "source": [
    "print(acc_test)"
   ]
  },
  {
   "cell_type": "code",
   "execution_count": 116,
   "id": "8eee9ff0-58f8-470b-8945-d39dc5e35512",
   "metadata": {},
   "outputs": [
    {
     "name": "stdout",
     "output_type": "stream",
     "text": [
      "[[52  4]\n",
      " [16 18]]\n"
     ]
    }
   ],
   "source": [
    "print(cm_test)"
   ]
  },
  {
   "cell_type": "code",
   "execution_count": 117,
   "id": "071c9a7d-e432-4c59-acdc-c1ed8bc8a676",
   "metadata": {},
   "outputs": [
    {
     "name": "stdout",
     "output_type": "stream",
     "text": [
      "              precision    recall  f1-score   support\n",
      "\n",
      "         RSP       0.76      0.93      0.84        56\n",
      "         pro       0.82      0.53      0.64        34\n",
      "\n",
      "    accuracy                           0.78        90\n",
      "   macro avg       0.79      0.73      0.74        90\n",
      "weighted avg       0.78      0.78      0.76        90\n",
      "\n"
     ]
    }
   ],
   "source": [
    "print( classification_report(y_train_logis, y_pre_train_logis, target_names = ['RSP' , 'pro']))"
   ]
  },
  {
   "cell_type": "code",
   "execution_count": 118,
   "id": "138bf311-dc2c-442b-9cb1-b6ffb656e4ea",
   "metadata": {},
   "outputs": [],
   "source": [
    "acc_test =  accuracy_score(y_val_logis, y_pred_val_logis)\n",
    "cm_test = confusion_matrix(y_val_logis, y_pred_val_logis)"
   ]
  },
  {
   "cell_type": "code",
   "execution_count": 119,
   "id": "b936d89a-bb7c-4cf1-a8eb-244780c1efa9",
   "metadata": {},
   "outputs": [
    {
     "name": "stdout",
     "output_type": "stream",
     "text": [
      "0.8666666666666667\n"
     ]
    }
   ],
   "source": [
    "print(acc_test)"
   ]
  },
  {
   "cell_type": "code",
   "execution_count": 120,
   "id": "ee5e2055-47c4-4046-b26f-2ef50a48cb16",
   "metadata": {},
   "outputs": [
    {
     "name": "stdout",
     "output_type": "stream",
     "text": [
      "[[10  1]\n",
      " [ 1  3]]\n"
     ]
    }
   ],
   "source": [
    "print(cm_test)"
   ]
  },
  {
   "cell_type": "code",
   "execution_count": 121,
   "id": "b918ab51-59e4-4fde-a983-394380533bd3",
   "metadata": {},
   "outputs": [
    {
     "name": "stdout",
     "output_type": "stream",
     "text": [
      "              precision    recall  f1-score   support\n",
      "\n",
      "         RSP       0.91      0.91      0.91        11\n",
      "         pro       0.75      0.75      0.75         4\n",
      "\n",
      "    accuracy                           0.87        15\n",
      "   macro avg       0.83      0.83      0.83        15\n",
      "weighted avg       0.87      0.87      0.87        15\n",
      "\n"
     ]
    }
   ],
   "source": [
    "print( classification_report(y_val_logis, y_pred_val_logis, target_names = ['RSP' , 'pro']))"
   ]
  },
  {
   "cell_type": "code",
   "execution_count": 122,
   "id": "8ed92195-add2-455f-9f55-9db9ac65cc64",
   "metadata": {},
   "outputs": [],
   "source": [
    "y_pred_val_logis_prob = LogReg_clf.predict_proba(X_val_logis)"
   ]
  },
  {
   "cell_type": "code",
   "execution_count": 123,
   "id": "1ecdad9e-fab8-4539-8fae-c15d84666ef3",
   "metadata": {},
   "outputs": [
    {
     "data": {
      "text/plain": [
       "array([[0.92938928, 0.07061072],\n",
       "       [0.90851692, 0.09148308],\n",
       "       [0.85781892, 0.14218108],\n",
       "       [0.76294878, 0.23705122],\n",
       "       [0.0733494 , 0.9266506 ],\n",
       "       [0.10672424, 0.89327576],\n",
       "       [0.15847546, 0.84152454],\n",
       "       [0.1765925 , 0.8234075 ],\n",
       "       [0.7258964 , 0.2741036 ],\n",
       "       [0.85781892, 0.14218108],\n",
       "       [0.60121466, 0.39878534],\n",
       "       [0.74280019, 0.25719981],\n",
       "       [0.86556435, 0.13443565],\n",
       "       [0.85781892, 0.14218108],\n",
       "       [0.85781892, 0.14218108]])"
      ]
     },
     "execution_count": 123,
     "metadata": {},
     "output_type": "execute_result"
    }
   ],
   "source": [
    "y_pred_val_logis_prob"
   ]
  },
  {
   "cell_type": "code",
   "execution_count": 124,
   "id": "9a41a54a-25c2-485b-b737-93c3b76bee10",
   "metadata": {},
   "outputs": [
    {
     "data": {
      "text/html": [
       "<div>\n",
       "<style scoped>\n",
       "    .dataframe tbody tr th:only-of-type {\n",
       "        vertical-align: middle;\n",
       "    }\n",
       "\n",
       "    .dataframe tbody tr th {\n",
       "        vertical-align: top;\n",
       "    }\n",
       "\n",
       "    .dataframe thead th {\n",
       "        text-align: right;\n",
       "    }\n",
       "</style>\n",
       "<table border=\"1\" class=\"dataframe\">\n",
       "  <thead>\n",
       "    <tr style=\"text-align: right;\">\n",
       "      <th></th>\n",
       "      <th>date</th>\n",
       "      <th>year</th>\n",
       "      <th>month</th>\n",
       "      <th>week_of_year</th>\n",
       "      <th>sales_in</th>\n",
       "      <th>stores</th>\n",
       "      <th>offtake</th>\n",
       "      <th>pro</th>\n",
       "      <th>pro_class</th>\n",
       "      <th>baseline</th>\n",
       "      <th>clf_rand</th>\n",
       "      <th>clf_xgb</th>\n",
       "      <th>y_pre_train_logis</th>\n",
       "    </tr>\n",
       "  </thead>\n",
       "  <tbody>\n",
       "    <tr>\n",
       "      <th>0</th>\n",
       "      <td>2020-07-13</td>\n",
       "      <td>2020</td>\n",
       "      <td>7</td>\n",
       "      <td>29</td>\n",
       "      <td>4170</td>\n",
       "      <td>19336</td>\n",
       "      <td>5.5161</td>\n",
       "      <td>RSP</td>\n",
       "      <td>0</td>\n",
       "      <td>0</td>\n",
       "      <td>0</td>\n",
       "      <td>0</td>\n",
       "      <td>0</td>\n",
       "    </tr>\n",
       "    <tr>\n",
       "      <th>1</th>\n",
       "      <td>2020-07-20</td>\n",
       "      <td>2020</td>\n",
       "      <td>7</td>\n",
       "      <td>30</td>\n",
       "      <td>35</td>\n",
       "      <td>21440</td>\n",
       "      <td>8.2377</td>\n",
       "      <td>2for</td>\n",
       "      <td>1</td>\n",
       "      <td>1</td>\n",
       "      <td>1</td>\n",
       "      <td>1</td>\n",
       "      <td>0</td>\n",
       "    </tr>\n",
       "    <tr>\n",
       "      <th>2</th>\n",
       "      <td>2020-07-27</td>\n",
       "      <td>2020</td>\n",
       "      <td>7</td>\n",
       "      <td>31</td>\n",
       "      <td>256</td>\n",
       "      <td>24646</td>\n",
       "      <td>11.9070</td>\n",
       "      <td>2for</td>\n",
       "      <td>1</td>\n",
       "      <td>1</td>\n",
       "      <td>1</td>\n",
       "      <td>1</td>\n",
       "      <td>1</td>\n",
       "    </tr>\n",
       "    <tr>\n",
       "      <th>3</th>\n",
       "      <td>2020-08-03</td>\n",
       "      <td>2020</td>\n",
       "      <td>8</td>\n",
       "      <td>32</td>\n",
       "      <td>756</td>\n",
       "      <td>23780</td>\n",
       "      <td>11.1780</td>\n",
       "      <td>2for</td>\n",
       "      <td>1</td>\n",
       "      <td>1</td>\n",
       "      <td>1</td>\n",
       "      <td>1</td>\n",
       "      <td>1</td>\n",
       "    </tr>\n",
       "    <tr>\n",
       "      <th>4</th>\n",
       "      <td>2020-08-10</td>\n",
       "      <td>2020</td>\n",
       "      <td>8</td>\n",
       "      <td>33</td>\n",
       "      <td>452</td>\n",
       "      <td>23017</td>\n",
       "      <td>10.2789</td>\n",
       "      <td>2for</td>\n",
       "      <td>1</td>\n",
       "      <td>1</td>\n",
       "      <td>1</td>\n",
       "      <td>1</td>\n",
       "      <td>1</td>\n",
       "    </tr>\n",
       "    <tr>\n",
       "      <th>...</th>\n",
       "      <td>...</td>\n",
       "      <td>...</td>\n",
       "      <td>...</td>\n",
       "      <td>...</td>\n",
       "      <td>...</td>\n",
       "      <td>...</td>\n",
       "      <td>...</td>\n",
       "      <td>...</td>\n",
       "      <td>...</td>\n",
       "      <td>...</td>\n",
       "      <td>...</td>\n",
       "      <td>...</td>\n",
       "      <td>...</td>\n",
       "    </tr>\n",
       "    <tr>\n",
       "      <th>85</th>\n",
       "      <td>2022-05-16</td>\n",
       "      <td>2022</td>\n",
       "      <td>5</td>\n",
       "      <td>20</td>\n",
       "      <td>268</td>\n",
       "      <td>10340</td>\n",
       "      <td>7.8975</td>\n",
       "      <td>RSP</td>\n",
       "      <td>0</td>\n",
       "      <td>0</td>\n",
       "      <td>0</td>\n",
       "      <td>0</td>\n",
       "      <td>0</td>\n",
       "    </tr>\n",
       "    <tr>\n",
       "      <th>86</th>\n",
       "      <td>2022-05-23</td>\n",
       "      <td>2022</td>\n",
       "      <td>5</td>\n",
       "      <td>21</td>\n",
       "      <td>110</td>\n",
       "      <td>9968</td>\n",
       "      <td>7.1442</td>\n",
       "      <td>RSP</td>\n",
       "      <td>0</td>\n",
       "      <td>0</td>\n",
       "      <td>0</td>\n",
       "      <td>0</td>\n",
       "      <td>0</td>\n",
       "    </tr>\n",
       "    <tr>\n",
       "      <th>87</th>\n",
       "      <td>2022-05-30</td>\n",
       "      <td>2022</td>\n",
       "      <td>5</td>\n",
       "      <td>22</td>\n",
       "      <td>0</td>\n",
       "      <td>10440</td>\n",
       "      <td>7.9704</td>\n",
       "      <td>RSP</td>\n",
       "      <td>0</td>\n",
       "      <td>0</td>\n",
       "      <td>0</td>\n",
       "      <td>0</td>\n",
       "      <td>0</td>\n",
       "    </tr>\n",
       "    <tr>\n",
       "      <th>88</th>\n",
       "      <td>2022-06-06</td>\n",
       "      <td>2022</td>\n",
       "      <td>6</td>\n",
       "      <td>23</td>\n",
       "      <td>0</td>\n",
       "      <td>8457</td>\n",
       "      <td>5.8563</td>\n",
       "      <td>RSP</td>\n",
       "      <td>0</td>\n",
       "      <td>0</td>\n",
       "      <td>0</td>\n",
       "      <td>0</td>\n",
       "      <td>0</td>\n",
       "    </tr>\n",
       "    <tr>\n",
       "      <th>89</th>\n",
       "      <td>2022-06-13</td>\n",
       "      <td>2022</td>\n",
       "      <td>6</td>\n",
       "      <td>24</td>\n",
       "      <td>0</td>\n",
       "      <td>7587</td>\n",
       "      <td>5.5161</td>\n",
       "      <td>RSP</td>\n",
       "      <td>0</td>\n",
       "      <td>0</td>\n",
       "      <td>0</td>\n",
       "      <td>0</td>\n",
       "      <td>0</td>\n",
       "    </tr>\n",
       "  </tbody>\n",
       "</table>\n",
       "<p>90 rows × 13 columns</p>\n",
       "</div>"
      ],
      "text/plain": [
       "         date  year  month  week_of_year  sales_in  stores  offtake   pro  \\\n",
       "0  2020-07-13  2020      7            29      4170   19336   5.5161   RSP   \n",
       "1  2020-07-20  2020      7            30        35   21440   8.2377  2for   \n",
       "2  2020-07-27  2020      7            31       256   24646  11.9070  2for   \n",
       "3  2020-08-03  2020      8            32       756   23780  11.1780  2for   \n",
       "4  2020-08-10  2020      8            33       452   23017  10.2789  2for   \n",
       "..        ...   ...    ...           ...       ...     ...      ...   ...   \n",
       "85 2022-05-16  2022      5            20       268   10340   7.8975   RSP   \n",
       "86 2022-05-23  2022      5            21       110    9968   7.1442   RSP   \n",
       "87 2022-05-30  2022      5            22         0   10440   7.9704   RSP   \n",
       "88 2022-06-06  2022      6            23         0    8457   5.8563   RSP   \n",
       "89 2022-06-13  2022      6            24         0    7587   5.5161   RSP   \n",
       "\n",
       "    pro_class  baseline  clf_rand  clf_xgb  y_pre_train_logis  \n",
       "0           0         0         0        0                  0  \n",
       "1           1         1         1        1                  0  \n",
       "2           1         1         1        1                  1  \n",
       "3           1         1         1        1                  1  \n",
       "4           1         1         1        1                  1  \n",
       "..        ...       ...       ...      ...                ...  \n",
       "85          0         0         0        0                  0  \n",
       "86          0         0         0        0                  0  \n",
       "87          0         0         0        0                  0  \n",
       "88          0         0         0        0                  0  \n",
       "89          0         0         0        0                  0  \n",
       "\n",
       "[90 rows x 13 columns]"
      ]
     },
     "execution_count": 124,
     "metadata": {},
     "output_type": "execute_result"
    }
   ],
   "source": [
    "train"
   ]
  },
  {
   "cell_type": "code",
   "execution_count": 125,
   "id": "0f1f12d4-6699-447f-a051-3c515cfbdecf",
   "metadata": {},
   "outputs": [
    {
     "data": {
      "text/html": [
       "<div>\n",
       "<style scoped>\n",
       "    .dataframe tbody tr th:only-of-type {\n",
       "        vertical-align: middle;\n",
       "    }\n",
       "\n",
       "    .dataframe tbody tr th {\n",
       "        vertical-align: top;\n",
       "    }\n",
       "\n",
       "    .dataframe thead th {\n",
       "        text-align: right;\n",
       "    }\n",
       "</style>\n",
       "<table border=\"1\" class=\"dataframe\">\n",
       "  <thead>\n",
       "    <tr style=\"text-align: right;\">\n",
       "      <th></th>\n",
       "      <th>date</th>\n",
       "      <th>year</th>\n",
       "      <th>month</th>\n",
       "      <th>week_of_year</th>\n",
       "      <th>sales_in</th>\n",
       "      <th>stores</th>\n",
       "      <th>offtake</th>\n",
       "      <th>pro</th>\n",
       "      <th>pro_class</th>\n",
       "      <th>baseline</th>\n",
       "      <th>clf_rand</th>\n",
       "      <th>clf_xgb</th>\n",
       "      <th>y_pre_train_logis</th>\n",
       "    </tr>\n",
       "  </thead>\n",
       "  <tbody>\n",
       "    <tr>\n",
       "      <th>90</th>\n",
       "      <td>2022-06-20</td>\n",
       "      <td>2022</td>\n",
       "      <td>6</td>\n",
       "      <td>25</td>\n",
       "      <td>32</td>\n",
       "      <td>7011</td>\n",
       "      <td>5.4918</td>\n",
       "      <td>RSP</td>\n",
       "      <td>0</td>\n",
       "      <td>0</td>\n",
       "      <td>0</td>\n",
       "      <td>0</td>\n",
       "      <td>0</td>\n",
       "    </tr>\n",
       "    <tr>\n",
       "      <th>91</th>\n",
       "      <td>2022-06-27</td>\n",
       "      <td>2022</td>\n",
       "      <td>6</td>\n",
       "      <td>26</td>\n",
       "      <td>149</td>\n",
       "      <td>6865</td>\n",
       "      <td>5.8077</td>\n",
       "      <td>RSP</td>\n",
       "      <td>0</td>\n",
       "      <td>0</td>\n",
       "      <td>0</td>\n",
       "      <td>0</td>\n",
       "      <td>0</td>\n",
       "    </tr>\n",
       "    <tr>\n",
       "      <th>92</th>\n",
       "      <td>2022-07-04</td>\n",
       "      <td>2022</td>\n",
       "      <td>7</td>\n",
       "      <td>27</td>\n",
       "      <td>161</td>\n",
       "      <td>7468</td>\n",
       "      <td>6.3666</td>\n",
       "      <td>RSP</td>\n",
       "      <td>0</td>\n",
       "      <td>0</td>\n",
       "      <td>0</td>\n",
       "      <td>0</td>\n",
       "      <td>0</td>\n",
       "    </tr>\n",
       "    <tr>\n",
       "      <th>93</th>\n",
       "      <td>2022-07-11</td>\n",
       "      <td>2022</td>\n",
       "      <td>7</td>\n",
       "      <td>28</td>\n",
       "      <td>253</td>\n",
       "      <td>7616</td>\n",
       "      <td>7.0713</td>\n",
       "      <td>RSP</td>\n",
       "      <td>0</td>\n",
       "      <td>0</td>\n",
       "      <td>0</td>\n",
       "      <td>0</td>\n",
       "      <td>0</td>\n",
       "    </tr>\n",
       "    <tr>\n",
       "      <th>94</th>\n",
       "      <td>2022-07-18</td>\n",
       "      <td>2022</td>\n",
       "      <td>7</td>\n",
       "      <td>29</td>\n",
       "      <td>107</td>\n",
       "      <td>8933</td>\n",
       "      <td>11.2266</td>\n",
       "      <td>RSP</td>\n",
       "      <td>0</td>\n",
       "      <td>1</td>\n",
       "      <td>1</td>\n",
       "      <td>1</td>\n",
       "      <td>1</td>\n",
       "    </tr>\n",
       "    <tr>\n",
       "      <th>95</th>\n",
       "      <td>2022-07-25</td>\n",
       "      <td>2022</td>\n",
       "      <td>7</td>\n",
       "      <td>30</td>\n",
       "      <td>246</td>\n",
       "      <td>8454</td>\n",
       "      <td>10.7649</td>\n",
       "      <td>2for</td>\n",
       "      <td>1</td>\n",
       "      <td>1</td>\n",
       "      <td>1</td>\n",
       "      <td>1</td>\n",
       "      <td>1</td>\n",
       "    </tr>\n",
       "    <tr>\n",
       "      <th>96</th>\n",
       "      <td>2022-08-01</td>\n",
       "      <td>2022</td>\n",
       "      <td>8</td>\n",
       "      <td>31</td>\n",
       "      <td>329</td>\n",
       "      <td>8333</td>\n",
       "      <td>10.2546</td>\n",
       "      <td>2for</td>\n",
       "      <td>1</td>\n",
       "      <td>1</td>\n",
       "      <td>1</td>\n",
       "      <td>1</td>\n",
       "      <td>1</td>\n",
       "    </tr>\n",
       "    <tr>\n",
       "      <th>97</th>\n",
       "      <td>2022-08-08</td>\n",
       "      <td>2022</td>\n",
       "      <td>8</td>\n",
       "      <td>32</td>\n",
       "      <td>195</td>\n",
       "      <td>8095</td>\n",
       "      <td>10.1088</td>\n",
       "      <td>2for</td>\n",
       "      <td>1</td>\n",
       "      <td>1</td>\n",
       "      <td>1</td>\n",
       "      <td>1</td>\n",
       "      <td>1</td>\n",
       "    </tr>\n",
       "    <tr>\n",
       "      <th>98</th>\n",
       "      <td>2022-08-15</td>\n",
       "      <td>2022</td>\n",
       "      <td>8</td>\n",
       "      <td>33</td>\n",
       "      <td>256</td>\n",
       "      <td>7395</td>\n",
       "      <td>7.2900</td>\n",
       "      <td>2for</td>\n",
       "      <td>1</td>\n",
       "      <td>0</td>\n",
       "      <td>0</td>\n",
       "      <td>0</td>\n",
       "      <td>0</td>\n",
       "    </tr>\n",
       "    <tr>\n",
       "      <th>99</th>\n",
       "      <td>2022-08-22</td>\n",
       "      <td>2022</td>\n",
       "      <td>8</td>\n",
       "      <td>34</td>\n",
       "      <td>163</td>\n",
       "      <td>7167</td>\n",
       "      <td>6.3666</td>\n",
       "      <td>RSP</td>\n",
       "      <td>0</td>\n",
       "      <td>0</td>\n",
       "      <td>0</td>\n",
       "      <td>0</td>\n",
       "      <td>0</td>\n",
       "    </tr>\n",
       "    <tr>\n",
       "      <th>100</th>\n",
       "      <td>2022-08-29</td>\n",
       "      <td>2022</td>\n",
       "      <td>8</td>\n",
       "      <td>35</td>\n",
       "      <td>52</td>\n",
       "      <td>7553</td>\n",
       "      <td>7.9218</td>\n",
       "      <td>RSP</td>\n",
       "      <td>0</td>\n",
       "      <td>0</td>\n",
       "      <td>0</td>\n",
       "      <td>0</td>\n",
       "      <td>0</td>\n",
       "    </tr>\n",
       "    <tr>\n",
       "      <th>101</th>\n",
       "      <td>2022-09-05</td>\n",
       "      <td>2022</td>\n",
       "      <td>9</td>\n",
       "      <td>36</td>\n",
       "      <td>120</td>\n",
       "      <td>7371</td>\n",
       "      <td>7.1928</td>\n",
       "      <td>RSP</td>\n",
       "      <td>0</td>\n",
       "      <td>0</td>\n",
       "      <td>0</td>\n",
       "      <td>0</td>\n",
       "      <td>0</td>\n",
       "    </tr>\n",
       "    <tr>\n",
       "      <th>102</th>\n",
       "      <td>2022-09-12</td>\n",
       "      <td>2022</td>\n",
       "      <td>9</td>\n",
       "      <td>37</td>\n",
       "      <td>73</td>\n",
       "      <td>6809</td>\n",
       "      <td>6.2937</td>\n",
       "      <td>RSP</td>\n",
       "      <td>0</td>\n",
       "      <td>0</td>\n",
       "      <td>0</td>\n",
       "      <td>0</td>\n",
       "      <td>0</td>\n",
       "    </tr>\n",
       "    <tr>\n",
       "      <th>103</th>\n",
       "      <td>2022-09-19</td>\n",
       "      <td>2022</td>\n",
       "      <td>9</td>\n",
       "      <td>38</td>\n",
       "      <td>93</td>\n",
       "      <td>6812</td>\n",
       "      <td>6.3666</td>\n",
       "      <td>RSP</td>\n",
       "      <td>0</td>\n",
       "      <td>0</td>\n",
       "      <td>0</td>\n",
       "      <td>0</td>\n",
       "      <td>0</td>\n",
       "    </tr>\n",
       "    <tr>\n",
       "      <th>104</th>\n",
       "      <td>2022-09-26</td>\n",
       "      <td>2022</td>\n",
       "      <td>9</td>\n",
       "      <td>39</td>\n",
       "      <td>129</td>\n",
       "      <td>7023</td>\n",
       "      <td>6.3666</td>\n",
       "      <td>RSP</td>\n",
       "      <td>0</td>\n",
       "      <td>0</td>\n",
       "      <td>0</td>\n",
       "      <td>0</td>\n",
       "      <td>0</td>\n",
       "    </tr>\n",
       "  </tbody>\n",
       "</table>\n",
       "</div>"
      ],
      "text/plain": [
       "          date  year  month  week_of_year  sales_in  stores  offtake   pro  \\\n",
       "90  2022-06-20  2022      6            25        32    7011   5.4918   RSP   \n",
       "91  2022-06-27  2022      6            26       149    6865   5.8077   RSP   \n",
       "92  2022-07-04  2022      7            27       161    7468   6.3666   RSP   \n",
       "93  2022-07-11  2022      7            28       253    7616   7.0713   RSP   \n",
       "94  2022-07-18  2022      7            29       107    8933  11.2266   RSP   \n",
       "95  2022-07-25  2022      7            30       246    8454  10.7649  2for   \n",
       "96  2022-08-01  2022      8            31       329    8333  10.2546  2for   \n",
       "97  2022-08-08  2022      8            32       195    8095  10.1088  2for   \n",
       "98  2022-08-15  2022      8            33       256    7395   7.2900  2for   \n",
       "99  2022-08-22  2022      8            34       163    7167   6.3666   RSP   \n",
       "100 2022-08-29  2022      8            35        52    7553   7.9218   RSP   \n",
       "101 2022-09-05  2022      9            36       120    7371   7.1928   RSP   \n",
       "102 2022-09-12  2022      9            37        73    6809   6.2937   RSP   \n",
       "103 2022-09-19  2022      9            38        93    6812   6.3666   RSP   \n",
       "104 2022-09-26  2022      9            39       129    7023   6.3666   RSP   \n",
       "\n",
       "     pro_class  baseline  clf_rand  clf_xgb  y_pre_train_logis  \n",
       "90           0         0         0        0                  0  \n",
       "91           0         0         0        0                  0  \n",
       "92           0         0         0        0                  0  \n",
       "93           0         0         0        0                  0  \n",
       "94           0         1         1        1                  1  \n",
       "95           1         1         1        1                  1  \n",
       "96           1         1         1        1                  1  \n",
       "97           1         1         1        1                  1  \n",
       "98           1         0         0        0                  0  \n",
       "99           0         0         0        0                  0  \n",
       "100          0         0         0        0                  0  \n",
       "101          0         0         0        0                  0  \n",
       "102          0         0         0        0                  0  \n",
       "103          0         0         0        0                  0  \n",
       "104          0         0         0        0                  0  "
      ]
     },
     "execution_count": 125,
     "metadata": {},
     "output_type": "execute_result"
    }
   ],
   "source": [
    "valid"
   ]
  },
  {
   "cell_type": "code",
   "execution_count": 126,
   "id": "7ca81584-5e2f-41c7-b560-a9f14afcc491",
   "metadata": {},
   "outputs": [
    {
     "data": {
      "text/plain": [
       "<AxesSubplot: xlabel='date', ylabel='offtake'>"
      ]
     },
     "execution_count": 126,
     "metadata": {},
     "output_type": "execute_result"
    },
    {
     "data": {
      "image/png": "[encoded data removed]",
      "text/plain": [
       "<Figure size 2000x200 with 1 Axes>"
      ]
     },
     "metadata": {},
     "output_type": "display_data"
    }
   ],
   "source": [
    "plt.figure(figsize=(20, 2))\n",
    "sns.lineplot(data=train, x=\"date\", y=\"offtake\", marker='o', linestyle='',hue=\"pro_class\")"
   ]
  },
  {
   "cell_type": "code",
   "execution_count": 127,
   "id": "a38bf9e6-8246-4237-ad7b-c5b485ac51ea",
   "metadata": {},
   "outputs": [
    {
     "data": {
      "text/plain": [
       "<AxesSubplot: xlabel='date', ylabel='offtake'>"
      ]
     },
     "execution_count": 127,
     "metadata": {},
     "output_type": "execute_result"
    },
    {
     "data": {
      "image/png": "[encoded data removed]",
      "text/plain": [
       "<Figure size 2000x200 with 1 Axes>"
      ]
     },
     "metadata": {},
     "output_type": "display_data"
    }
   ],
   "source": [
    "plt.figure(figsize=(20, 2))\n",
    "sns.lineplot(data=train, x=\"date\", y=\"offtake\", marker='o', linestyle='',hue=\"y_pre_train_logis\")"
   ]
  },
  {
   "cell_type": "code",
   "execution_count": 128,
   "id": "e380c80d-799d-432b-9f39-2a2ce1492548",
   "metadata": {},
   "outputs": [
    {
     "data": {
      "text/plain": [
       "<AxesSubplot: xlabel='date', ylabel='offtake'>"
      ]
     },
     "execution_count": 128,
     "metadata": {},
     "output_type": "execute_result"
    },
    {
     "data": {
      "image/png": "[encoded data removed]",
      "text/plain": [
       "<Figure size 2000x200 with 1 Axes>"
      ]
     },
     "metadata": {},
     "output_type": "display_data"
    }
   ],
   "source": [
    "plt.figure(figsize=(20, 2))\n",
    "sns.lineplot(data=valid, x=\"date\", y=\"offtake\", marker='o', linestyle='',hue=\"pro_class\")"
   ]
  },
  {
   "cell_type": "code",
   "execution_count": 129,
   "id": "d7476e47-9899-4cff-a5fa-829fdf39d0fe",
   "metadata": {},
   "outputs": [
    {
     "data": {
      "text/plain": [
       "<AxesSubplot: xlabel='date', ylabel='offtake'>"
      ]
     },
     "execution_count": 129,
     "metadata": {},
     "output_type": "execute_result"
    },
    {
     "data": {
      "image/png": "[encoded data removed]",
      "text/plain": [
       "<Figure size 2000x200 with 1 Axes>"
      ]
     },
     "metadata": {},
     "output_type": "display_data"
    }
   ],
   "source": [
    "plt.figure(figsize=(20, 2))\n",
    "sns.lineplot(data=valid, x=\"date\", y=\"offtake\", marker='o', linestyle='',hue=\"y_pre_train_logis\")"
   ]
  },
  {
   "cell_type": "markdown",
   "id": "521505e8-0b61-465d-800b-5bdd52db918c",
   "metadata": {},
   "source": [
    "## 5. unseen data (df_test)"
   ]
  },
  {
   "cell_type": "code",
   "execution_count": 130,
   "id": "4ca46933-b1c3-4bf2-9ace-5df3fc861c7a",
   "metadata": {},
   "outputs": [
    {
     "data": {
      "text/html": [
       "<div>\n",
       "<style scoped>\n",
       "    .dataframe tbody tr th:only-of-type {\n",
       "        vertical-align: middle;\n",
       "    }\n",
       "\n",
       "    .dataframe tbody tr th {\n",
       "        vertical-align: top;\n",
       "    }\n",
       "\n",
       "    .dataframe thead th {\n",
       "        text-align: right;\n",
       "    }\n",
       "</style>\n",
       "<table border=\"1\" class=\"dataframe\">\n",
       "  <thead>\n",
       "    <tr style=\"text-align: right;\">\n",
       "      <th></th>\n",
       "      <th>date</th>\n",
       "      <th>sales_in</th>\n",
       "      <th>stores</th>\n",
       "      <th>pro_npro</th>\n",
       "      <th>offtake</th>\n",
       "    </tr>\n",
       "  </thead>\n",
       "  <tbody>\n",
       "    <tr>\n",
       "      <th>0</th>\n",
       "      <td>10/3/2022</td>\n",
       "      <td>124</td>\n",
       "      <td>7159</td>\n",
       "      <td>0</td>\n",
       "      <td>6.66</td>\n",
       "    </tr>\n",
       "    <tr>\n",
       "      <th>1</th>\n",
       "      <td>10/10/2022</td>\n",
       "      <td>2068</td>\n",
       "      <td>7478</td>\n",
       "      <td>0</td>\n",
       "      <td>7.05</td>\n",
       "    </tr>\n",
       "    <tr>\n",
       "      <th>2</th>\n",
       "      <td>10/17/2022</td>\n",
       "      <td>465</td>\n",
       "      <td>11451</td>\n",
       "      <td>0</td>\n",
       "      <td>7.29</td>\n",
       "    </tr>\n",
       "    <tr>\n",
       "      <th>3</th>\n",
       "      <td>10/24/2022</td>\n",
       "      <td>0</td>\n",
       "      <td>11835</td>\n",
       "      <td>1</td>\n",
       "      <td>8.63</td>\n",
       "    </tr>\n",
       "    <tr>\n",
       "      <th>4</th>\n",
       "      <td>10/31/2022</td>\n",
       "      <td>0</td>\n",
       "      <td>11733</td>\n",
       "      <td>1</td>\n",
       "      <td>8.41</td>\n",
       "    </tr>\n",
       "    <tr>\n",
       "      <th>5</th>\n",
       "      <td>11/7/2022</td>\n",
       "      <td>71</td>\n",
       "      <td>10994</td>\n",
       "      <td>0</td>\n",
       "      <td>6.44</td>\n",
       "    </tr>\n",
       "    <tr>\n",
       "      <th>6</th>\n",
       "      <td>11/14/2022</td>\n",
       "      <td>214</td>\n",
       "      <td>10962</td>\n",
       "      <td>0</td>\n",
       "      <td>6.37</td>\n",
       "    </tr>\n",
       "    <tr>\n",
       "      <th>7</th>\n",
       "      <td>11/21/2022</td>\n",
       "      <td>477</td>\n",
       "      <td>10581</td>\n",
       "      <td>0</td>\n",
       "      <td>6.32</td>\n",
       "    </tr>\n",
       "  </tbody>\n",
       "</table>\n",
       "</div>"
      ],
      "text/plain": [
       "         date  sales_in  stores  pro_npro  offtake\n",
       "0   10/3/2022       124    7159         0     6.66\n",
       "1  10/10/2022      2068    7478         0     7.05\n",
       "2  10/17/2022       465   11451         0     7.29\n",
       "3  10/24/2022         0   11835         1     8.63\n",
       "4  10/31/2022         0   11733         1     8.41\n",
       "5   11/7/2022        71   10994         0     6.44\n",
       "6  11/14/2022       214   10962         0     6.37\n",
       "7  11/21/2022       477   10581         0     6.32"
      ]
     },
     "execution_count": 130,
     "metadata": {},
     "output_type": "execute_result"
    }
   ],
   "source": [
    "test_path = 'classification_pro_test.csv'\n",
    "df_test = pd.read_csv(test_path)\n",
    "\n",
    "df_test"
   ]
  },
  {
   "cell_type": "code",
   "execution_count": 131,
   "id": "c3f375c9-a4c2-40e5-a8c7-ea08ce8273de",
   "metadata": {},
   "outputs": [
    {
     "name": "stdout",
     "output_type": "stream",
     "text": [
      "(105, 9) (8, 5)\n"
     ]
    }
   ],
   "source": [
    "print(df_train.shape ,df_test.shape)"
   ]
  },
  {
   "cell_type": "code",
   "execution_count": 132,
   "id": "a532a290-e1eb-4b63-9b21-14110b76caf1",
   "metadata": {},
   "outputs": [
    {
     "name": "stderr",
     "output_type": "stream",
     "text": [
      "C:\\Users\\Mos\\AppData\\Local\\Temp\\ipykernel_15244\\2630070787.py:4: FutureWarning: Series.dt.weekofyear and Series.dt.week have been deprecated. Please use Series.dt.isocalendar().week instead.\n",
      "  df_test['week_of_year'] = df_test['date'].dt.week\n"
     ]
    }
   ],
   "source": [
    "df_test['date'] = pd.to_datetime(df_test['date'])\n",
    "df_test['year'] = df_test['date'].dt.year\n",
    "df_test['month'] = df_test['date'].dt.month\n",
    "df_test['week_of_year'] = df_test['date'].dt.week"
   ]
  },
  {
   "cell_type": "code",
   "execution_count": 133,
   "id": "29530fd7-a8fe-49a3-ad8e-65904d15f511",
   "metadata": {},
   "outputs": [
    {
     "name": "stdout",
     "output_type": "stream",
     "text": [
      "(105, 9) (8, 8)\n"
     ]
    }
   ],
   "source": [
    "print(df_train.shape ,df_test.shape)"
   ]
  },
  {
   "cell_type": "code",
   "execution_count": 134,
   "id": "7b8000c0-745a-459a-920f-9643c6085914",
   "metadata": {},
   "outputs": [
    {
     "name": "stdout",
     "output_type": "stream",
     "text": [
      "Index(['date', 'year', 'month', 'week_of_year', 'sales_in', 'stores',\n",
      "       'offtake', 'pro', 'pro_class'],\n",
      "      dtype='object')\n"
     ]
    }
   ],
   "source": [
    "print(df_train.columns)"
   ]
  },
  {
   "cell_type": "code",
   "execution_count": 135,
   "id": "9fb973b0-b239-4094-82d4-27bb30d45902",
   "metadata": {},
   "outputs": [
    {
     "name": "stdout",
     "output_type": "stream",
     "text": [
      "Index(['date', 'sales_in', 'stores', 'pro_npro', 'offtake', 'year', 'month',\n",
      "       'week_of_year'],\n",
      "      dtype='object')\n"
     ]
    }
   ],
   "source": [
    "print(df_test.columns)"
   ]
  },
  {
   "cell_type": "code",
   "execution_count": 136,
   "id": "b19acf97-04bc-4d44-ae14-a5baff24ee61",
   "metadata": {},
   "outputs": [
    {
     "data": {
      "text/plain": [
       "['month', 'week_of_year', 'sales_in', 'stores', 'offtake']"
      ]
     },
     "execution_count": 136,
     "metadata": {},
     "output_type": "execute_result"
    }
   ],
   "source": [
    "features_columns"
   ]
  },
  {
   "cell_type": "code",
   "execution_count": 137,
   "id": "dcc49fe4-d13d-4d5c-a22a-96172b219c2a",
   "metadata": {},
   "outputs": [],
   "source": [
    "df_test = df_test[['date','year','month','week_of_year','sales_in','stores','offtake','pro_npro']]\n",
    "df_test = df_test.rename(columns = {'pro_npro' : 'pro_class'})"
   ]
  },
  {
   "cell_type": "code",
   "execution_count": 138,
   "id": "79bee150-ab16-497f-81f0-a7d398509273",
   "metadata": {},
   "outputs": [],
   "source": [
    "X_test = df_test[features_columns].values\n",
    "y_test = df_test[\"pro_class\"].tolist()"
   ]
  },
  {
   "cell_type": "code",
   "execution_count": 139,
   "id": "c3b5ba59-4543-43a6-a052-877cdcebfe79",
   "metadata": {},
   "outputs": [
    {
     "data": {
      "text/plain": [
       "array([[1.0000e+01, 4.0000e+01, 1.2400e+02, 7.1590e+03, 6.6600e+00],\n",
       "       [1.0000e+01, 4.1000e+01, 2.0680e+03, 7.4780e+03, 7.0500e+00],\n",
       "       [1.0000e+01, 4.2000e+01, 4.6500e+02, 1.1451e+04, 7.2900e+00],\n",
       "       [1.0000e+01, 4.3000e+01, 0.0000e+00, 1.1835e+04, 8.6300e+00],\n",
       "       [1.0000e+01, 4.4000e+01, 0.0000e+00, 1.1733e+04, 8.4100e+00],\n",
       "       [1.1000e+01, 4.5000e+01, 7.1000e+01, 1.0994e+04, 6.4400e+00],\n",
       "       [1.1000e+01, 4.6000e+01, 2.1400e+02, 1.0962e+04, 6.3700e+00],\n",
       "       [1.1000e+01, 4.7000e+01, 4.7700e+02, 1.0581e+04, 6.3200e+00]])"
      ]
     },
     "execution_count": 139,
     "metadata": {},
     "output_type": "execute_result"
    }
   ],
   "source": [
    "X_test"
   ]
  },
  {
   "cell_type": "code",
   "execution_count": 140,
   "id": "d519c14a-a771-4dce-8969-f09aad5a0a6d",
   "metadata": {},
   "outputs": [
    {
     "data": {
      "text/plain": [
       "[0, 0, 0, 1, 1, 0, 0, 0]"
      ]
     },
     "execution_count": 140,
     "metadata": {},
     "output_type": "execute_result"
    }
   ],
   "source": [
    "y_test"
   ]
  },
  {
   "cell_type": "markdown",
   "id": "ca2896a2-d753-4631-bf01-8d79967bd032",
   "metadata": {},
   "source": [
    "### 5.1 Test with DecisionTreeClassifier"
   ]
  },
  {
   "cell_type": "code",
   "execution_count": 141,
   "id": "f1a21ab8-a46c-413e-a222-7ff9783bf03b",
   "metadata": {},
   "outputs": [],
   "source": [
    "y_train_opt_clf_tree = opt_clf_tree.predict(X_train)\n",
    "y_test_opt_clf_tree = opt_clf_tree.predict(X_test)"
   ]
  },
  {
   "cell_type": "code",
   "execution_count": 142,
   "id": "1d5c5d28-3228-4bb8-a00e-1c8fd6518253",
   "metadata": {},
   "outputs": [],
   "source": [
    "df_test[\"opt_clf_tree_test\"] = y_test_opt_clf_tree"
   ]
  },
  {
   "cell_type": "code",
   "execution_count": 143,
   "id": "4fcbd858-6f0e-4476-8ec9-2b8ff185a3c9",
   "metadata": {},
   "outputs": [
    {
     "data": {
      "text/html": [
       "<div>\n",
       "<style scoped>\n",
       "    .dataframe tbody tr th:only-of-type {\n",
       "        vertical-align: middle;\n",
       "    }\n",
       "\n",
       "    .dataframe tbody tr th {\n",
       "        vertical-align: top;\n",
       "    }\n",
       "\n",
       "    .dataframe thead th {\n",
       "        text-align: right;\n",
       "    }\n",
       "</style>\n",
       "<table border=\"1\" class=\"dataframe\">\n",
       "  <thead>\n",
       "    <tr style=\"text-align: right;\">\n",
       "      <th></th>\n",
       "      <th>date</th>\n",
       "      <th>year</th>\n",
       "      <th>month</th>\n",
       "      <th>week_of_year</th>\n",
       "      <th>sales_in</th>\n",
       "      <th>stores</th>\n",
       "      <th>offtake</th>\n",
       "      <th>pro_class</th>\n",
       "      <th>opt_clf_tree_test</th>\n",
       "    </tr>\n",
       "  </thead>\n",
       "  <tbody>\n",
       "    <tr>\n",
       "      <th>0</th>\n",
       "      <td>2022-10-03</td>\n",
       "      <td>2022</td>\n",
       "      <td>10</td>\n",
       "      <td>40</td>\n",
       "      <td>124</td>\n",
       "      <td>7159</td>\n",
       "      <td>6.66</td>\n",
       "      <td>0</td>\n",
       "      <td>0</td>\n",
       "    </tr>\n",
       "    <tr>\n",
       "      <th>1</th>\n",
       "      <td>2022-10-10</td>\n",
       "      <td>2022</td>\n",
       "      <td>10</td>\n",
       "      <td>41</td>\n",
       "      <td>2068</td>\n",
       "      <td>7478</td>\n",
       "      <td>7.05</td>\n",
       "      <td>0</td>\n",
       "      <td>0</td>\n",
       "    </tr>\n",
       "    <tr>\n",
       "      <th>2</th>\n",
       "      <td>2022-10-17</td>\n",
       "      <td>2022</td>\n",
       "      <td>10</td>\n",
       "      <td>42</td>\n",
       "      <td>465</td>\n",
       "      <td>11451</td>\n",
       "      <td>7.29</td>\n",
       "      <td>0</td>\n",
       "      <td>0</td>\n",
       "    </tr>\n",
       "    <tr>\n",
       "      <th>3</th>\n",
       "      <td>2022-10-24</td>\n",
       "      <td>2022</td>\n",
       "      <td>10</td>\n",
       "      <td>43</td>\n",
       "      <td>0</td>\n",
       "      <td>11835</td>\n",
       "      <td>8.63</td>\n",
       "      <td>1</td>\n",
       "      <td>0</td>\n",
       "    </tr>\n",
       "    <tr>\n",
       "      <th>4</th>\n",
       "      <td>2022-10-31</td>\n",
       "      <td>2022</td>\n",
       "      <td>10</td>\n",
       "      <td>44</td>\n",
       "      <td>0</td>\n",
       "      <td>11733</td>\n",
       "      <td>8.41</td>\n",
       "      <td>1</td>\n",
       "      <td>0</td>\n",
       "    </tr>\n",
       "    <tr>\n",
       "      <th>5</th>\n",
       "      <td>2022-11-07</td>\n",
       "      <td>2022</td>\n",
       "      <td>11</td>\n",
       "      <td>45</td>\n",
       "      <td>71</td>\n",
       "      <td>10994</td>\n",
       "      <td>6.44</td>\n",
       "      <td>0</td>\n",
       "      <td>0</td>\n",
       "    </tr>\n",
       "    <tr>\n",
       "      <th>6</th>\n",
       "      <td>2022-11-14</td>\n",
       "      <td>2022</td>\n",
       "      <td>11</td>\n",
       "      <td>46</td>\n",
       "      <td>214</td>\n",
       "      <td>10962</td>\n",
       "      <td>6.37</td>\n",
       "      <td>0</td>\n",
       "      <td>0</td>\n",
       "    </tr>\n",
       "    <tr>\n",
       "      <th>7</th>\n",
       "      <td>2022-11-21</td>\n",
       "      <td>2022</td>\n",
       "      <td>11</td>\n",
       "      <td>47</td>\n",
       "      <td>477</td>\n",
       "      <td>10581</td>\n",
       "      <td>6.32</td>\n",
       "      <td>0</td>\n",
       "      <td>0</td>\n",
       "    </tr>\n",
       "  </tbody>\n",
       "</table>\n",
       "</div>"
      ],
      "text/plain": [
       "        date  year  month  week_of_year  sales_in  stores  offtake  pro_class  \\\n",
       "0 2022-10-03  2022     10            40       124    7159     6.66          0   \n",
       "1 2022-10-10  2022     10            41      2068    7478     7.05          0   \n",
       "2 2022-10-17  2022     10            42       465   11451     7.29          0   \n",
       "3 2022-10-24  2022     10            43         0   11835     8.63          1   \n",
       "4 2022-10-31  2022     10            44         0   11733     8.41          1   \n",
       "5 2022-11-07  2022     11            45        71   10994     6.44          0   \n",
       "6 2022-11-14  2022     11            46       214   10962     6.37          0   \n",
       "7 2022-11-21  2022     11            47       477   10581     6.32          0   \n",
       "\n",
       "   opt_clf_tree_test  \n",
       "0                  0  \n",
       "1                  0  \n",
       "2                  0  \n",
       "3                  0  \n",
       "4                  0  \n",
       "5                  0  \n",
       "6                  0  \n",
       "7                  0  "
      ]
     },
     "execution_count": 143,
     "metadata": {},
     "output_type": "execute_result"
    }
   ],
   "source": [
    "df_test"
   ]
  },
  {
   "cell_type": "code",
   "execution_count": 144,
   "id": "91b959c0-5b84-4c33-a82c-7cde7ca4678c",
   "metadata": {},
   "outputs": [
    {
     "name": "stdout",
     "output_type": "stream",
     "text": [
      "              precision    recall  f1-score   support\n",
      "\n",
      "         RSP       0.98      1.00      0.99        56\n",
      "         pro       1.00      0.97      0.99        34\n",
      "\n",
      "    accuracy                           0.99        90\n",
      "   macro avg       0.99      0.99      0.99        90\n",
      "weighted avg       0.99      0.99      0.99        90\n",
      "\n"
     ]
    }
   ],
   "source": [
    "print( classification_report(y_train, y_train_opt_clf_tree, target_names = ['RSP' , 'pro']))"
   ]
  },
  {
   "cell_type": "code",
   "execution_count": 145,
   "id": "b72c2020-8012-4fd3-ad0f-620ff2efc5c9",
   "metadata": {},
   "outputs": [],
   "source": [
    "acc_test =  accuracy_score(y_test, y_test_opt_clf_tree)\n",
    "cm_test = confusion_matrix(y_test, y_test_opt_clf_tree)"
   ]
  },
  {
   "cell_type": "code",
   "execution_count": 146,
   "id": "181fe44f-aa75-41f7-a63e-7c67909319f0",
   "metadata": {},
   "outputs": [
    {
     "name": "stdout",
     "output_type": "stream",
     "text": [
      "0.75\n"
     ]
    }
   ],
   "source": [
    "print(acc_test)"
   ]
  },
  {
   "cell_type": "code",
   "execution_count": 147,
   "id": "87fbc316-2ff9-48fc-961b-d69f9621f75d",
   "metadata": {},
   "outputs": [
    {
     "name": "stdout",
     "output_type": "stream",
     "text": [
      "[[6 0]\n",
      " [2 0]]\n"
     ]
    }
   ],
   "source": [
    "print(cm_test)"
   ]
  },
  {
   "cell_type": "code",
   "execution_count": 148,
   "id": "27c6a07e-4abd-4080-a022-dff9ab813bc8",
   "metadata": {},
   "outputs": [
    {
     "name": "stdout",
     "output_type": "stream",
     "text": [
      "              precision    recall  f1-score   support\n",
      "\n",
      "         RSP       0.75      1.00      0.86         6\n",
      "         pro       0.00      0.00      0.00         2\n",
      "\n",
      "    accuracy                           0.75         8\n",
      "   macro avg       0.38      0.50      0.43         8\n",
      "weighted avg       0.56      0.75      0.64         8\n",
      "\n"
     ]
    },
    {
     "name": "stderr",
     "output_type": "stream",
     "text": [
      "C:\\Users\\Mos\\anaconda3\\envs\\supervise\\lib\\site-packages\\sklearn\\metrics\\_classification.py:1318: UndefinedMetricWarning: Precision and F-score are ill-defined and being set to 0.0 in labels with no predicted samples. Use `zero_division` parameter to control this behavior.\n",
      "  _warn_prf(average, modifier, msg_start, len(result))\n",
      "C:\\Users\\Mos\\anaconda3\\envs\\supervise\\lib\\site-packages\\sklearn\\metrics\\_classification.py:1318: UndefinedMetricWarning: Precision and F-score are ill-defined and being set to 0.0 in labels with no predicted samples. Use `zero_division` parameter to control this behavior.\n",
      "  _warn_prf(average, modifier, msg_start, len(result))\n",
      "C:\\Users\\Mos\\anaconda3\\envs\\supervise\\lib\\site-packages\\sklearn\\metrics\\_classification.py:1318: UndefinedMetricWarning: Precision and F-score are ill-defined and being set to 0.0 in labels with no predicted samples. Use `zero_division` parameter to control this behavior.\n",
      "  _warn_prf(average, modifier, msg_start, len(result))\n"
     ]
    }
   ],
   "source": [
    "print( classification_report(y_test, y_test_opt_clf_tree, target_names = ['RSP' , 'pro']))"
   ]
  },
  {
   "cell_type": "code",
   "execution_count": 149,
   "id": "b2c7d038-bf04-41a5-9002-2b7b8147a955",
   "metadata": {},
   "outputs": [
    {
     "data": {
      "text/html": [
       "<div>\n",
       "<style scoped>\n",
       "    .dataframe tbody tr th:only-of-type {\n",
       "        vertical-align: middle;\n",
       "    }\n",
       "\n",
       "    .dataframe tbody tr th {\n",
       "        vertical-align: top;\n",
       "    }\n",
       "\n",
       "    .dataframe thead th {\n",
       "        text-align: right;\n",
       "    }\n",
       "</style>\n",
       "<table border=\"1\" class=\"dataframe\">\n",
       "  <thead>\n",
       "    <tr style=\"text-align: right;\">\n",
       "      <th></th>\n",
       "      <th>date</th>\n",
       "      <th>year</th>\n",
       "      <th>month</th>\n",
       "      <th>week_of_year</th>\n",
       "      <th>sales_in</th>\n",
       "      <th>stores</th>\n",
       "      <th>offtake</th>\n",
       "      <th>pro_class</th>\n",
       "      <th>opt_clf_tree_test</th>\n",
       "    </tr>\n",
       "  </thead>\n",
       "  <tbody>\n",
       "    <tr>\n",
       "      <th>0</th>\n",
       "      <td>2022-10-03</td>\n",
       "      <td>2022</td>\n",
       "      <td>10</td>\n",
       "      <td>40</td>\n",
       "      <td>124</td>\n",
       "      <td>7159</td>\n",
       "      <td>6.66</td>\n",
       "      <td>0</td>\n",
       "      <td>0</td>\n",
       "    </tr>\n",
       "    <tr>\n",
       "      <th>1</th>\n",
       "      <td>2022-10-10</td>\n",
       "      <td>2022</td>\n",
       "      <td>10</td>\n",
       "      <td>41</td>\n",
       "      <td>2068</td>\n",
       "      <td>7478</td>\n",
       "      <td>7.05</td>\n",
       "      <td>0</td>\n",
       "      <td>0</td>\n",
       "    </tr>\n",
       "    <tr>\n",
       "      <th>2</th>\n",
       "      <td>2022-10-17</td>\n",
       "      <td>2022</td>\n",
       "      <td>10</td>\n",
       "      <td>42</td>\n",
       "      <td>465</td>\n",
       "      <td>11451</td>\n",
       "      <td>7.29</td>\n",
       "      <td>0</td>\n",
       "      <td>0</td>\n",
       "    </tr>\n",
       "    <tr>\n",
       "      <th>3</th>\n",
       "      <td>2022-10-24</td>\n",
       "      <td>2022</td>\n",
       "      <td>10</td>\n",
       "      <td>43</td>\n",
       "      <td>0</td>\n",
       "      <td>11835</td>\n",
       "      <td>8.63</td>\n",
       "      <td>1</td>\n",
       "      <td>0</td>\n",
       "    </tr>\n",
       "    <tr>\n",
       "      <th>4</th>\n",
       "      <td>2022-10-31</td>\n",
       "      <td>2022</td>\n",
       "      <td>10</td>\n",
       "      <td>44</td>\n",
       "      <td>0</td>\n",
       "      <td>11733</td>\n",
       "      <td>8.41</td>\n",
       "      <td>1</td>\n",
       "      <td>0</td>\n",
       "    </tr>\n",
       "    <tr>\n",
       "      <th>5</th>\n",
       "      <td>2022-11-07</td>\n",
       "      <td>2022</td>\n",
       "      <td>11</td>\n",
       "      <td>45</td>\n",
       "      <td>71</td>\n",
       "      <td>10994</td>\n",
       "      <td>6.44</td>\n",
       "      <td>0</td>\n",
       "      <td>0</td>\n",
       "    </tr>\n",
       "    <tr>\n",
       "      <th>6</th>\n",
       "      <td>2022-11-14</td>\n",
       "      <td>2022</td>\n",
       "      <td>11</td>\n",
       "      <td>46</td>\n",
       "      <td>214</td>\n",
       "      <td>10962</td>\n",
       "      <td>6.37</td>\n",
       "      <td>0</td>\n",
       "      <td>0</td>\n",
       "    </tr>\n",
       "    <tr>\n",
       "      <th>7</th>\n",
       "      <td>2022-11-21</td>\n",
       "      <td>2022</td>\n",
       "      <td>11</td>\n",
       "      <td>47</td>\n",
       "      <td>477</td>\n",
       "      <td>10581</td>\n",
       "      <td>6.32</td>\n",
       "      <td>0</td>\n",
       "      <td>0</td>\n",
       "    </tr>\n",
       "  </tbody>\n",
       "</table>\n",
       "</div>"
      ],
      "text/plain": [
       "        date  year  month  week_of_year  sales_in  stores  offtake  pro_class  \\\n",
       "0 2022-10-03  2022     10            40       124    7159     6.66          0   \n",
       "1 2022-10-10  2022     10            41      2068    7478     7.05          0   \n",
       "2 2022-10-17  2022     10            42       465   11451     7.29          0   \n",
       "3 2022-10-24  2022     10            43         0   11835     8.63          1   \n",
       "4 2022-10-31  2022     10            44         0   11733     8.41          1   \n",
       "5 2022-11-07  2022     11            45        71   10994     6.44          0   \n",
       "6 2022-11-14  2022     11            46       214   10962     6.37          0   \n",
       "7 2022-11-21  2022     11            47       477   10581     6.32          0   \n",
       "\n",
       "   opt_clf_tree_test  \n",
       "0                  0  \n",
       "1                  0  \n",
       "2                  0  \n",
       "3                  0  \n",
       "4                  0  \n",
       "5                  0  \n",
       "6                  0  \n",
       "7                  0  "
      ]
     },
     "execution_count": 149,
     "metadata": {},
     "output_type": "execute_result"
    }
   ],
   "source": [
    "df_test"
   ]
  },
  {
   "cell_type": "code",
   "execution_count": 150,
   "id": "cba5d422-f4a4-43fc-b239-70e06bf103ae",
   "metadata": {},
   "outputs": [
    {
     "data": {
      "text/plain": [
       "<AxesSubplot: xlabel='date', ylabel='offtake'>"
      ]
     },
     "execution_count": 150,
     "metadata": {},
     "output_type": "execute_result"
    },
    {
     "data": {
      "image/png": "[encoded data removed]",
      "text/plain": [
       "<Figure size 2000x200 with 1 Axes>"
      ]
     },
     "metadata": {},
     "output_type": "display_data"
    }
   ],
   "source": [
    "plt.figure(figsize=(20, 2))\n",
    "sns.lineplot(data=df_test, x=\"date\", y=\"offtake\", marker='o', linestyle='',hue=\"pro_class\")"
   ]
  },
  {
   "cell_type": "code",
   "execution_count": 151,
   "id": "0218f463-c73e-4f1f-a088-ae40760668f1",
   "metadata": {},
   "outputs": [
    {
     "data": {
      "text/plain": [
       "<AxesSubplot: xlabel='date', ylabel='offtake'>"
      ]
     },
     "execution_count": 151,
     "metadata": {},
     "output_type": "execute_result"
    },
    {
     "data": {
      "image/png": "[encoded data removed]",
      "text/plain": [
       "<Figure size 2000x200 with 1 Axes>"
      ]
     },
     "metadata": {},
     "output_type": "display_data"
    }
   ],
   "source": [
    "plt.figure(figsize=(20, 2))\n",
    "sns.lineplot(data=df_test, x=\"date\", y=\"offtake\", marker='o', linestyle='',hue=\"opt_clf_tree_test\")"
   ]
  },
  {
   "cell_type": "markdown",
   "id": "bfd3dbc6-bd3f-483a-ac1a-32b47f26e71e",
   "metadata": {},
   "source": [
    "### 5.2 test with guest model : Logistic Regression"
   ]
  },
  {
   "cell_type": "code",
   "execution_count": 152,
   "id": "0d8b3bb0-ee84-4e9a-a717-f8bec6ff7acd",
   "metadata": {},
   "outputs": [],
   "source": [
    "X_test_logis = df_test['offtake'].values\n",
    "y_test_logis = df_test['pro_class'].values"
   ]
  },
  {
   "cell_type": "code",
   "execution_count": 153,
   "id": "384ccedc-e855-4672-ae64-17b6e6215161",
   "metadata": {},
   "outputs": [],
   "source": [
    "X_test_logis = X_test_logis.reshape(-1,1)"
   ]
  },
  {
   "cell_type": "code",
   "execution_count": 154,
   "id": "c83d5be1-b0b9-4798-a99b-fa51f51b7d4f",
   "metadata": {},
   "outputs": [],
   "source": [
    "y_pred_test_logis = LogReg_clf.predict(X_test_logis)"
   ]
  },
  {
   "cell_type": "code",
   "execution_count": 155,
   "id": "656b6a4e-1a66-42a5-b2cf-af5e66010697",
   "metadata": {},
   "outputs": [],
   "source": [
    "df_test[\"y_pred_test_logis\"] = y_pred_test_logis"
   ]
  },
  {
   "cell_type": "code",
   "execution_count": 156,
   "id": "d5bd2819-83b5-4c93-8205-eec0e58fba5a",
   "metadata": {},
   "outputs": [],
   "source": [
    "acc_test =  accuracy_score(y_test_logis, y_pred_test_logis)\n",
    "cm_test = confusion_matrix(y_test_logis, y_pred_test_logis)"
   ]
  },
  {
   "cell_type": "code",
   "execution_count": 157,
   "id": "01d3c110-72b5-41f5-989c-90442e468188",
   "metadata": {},
   "outputs": [
    {
     "name": "stdout",
     "output_type": "stream",
     "text": [
      "1.0\n"
     ]
    }
   ],
   "source": [
    "print(acc_test)"
   ]
  },
  {
   "cell_type": "code",
   "execution_count": 158,
   "id": "cc12440c-1059-4011-acc0-ed37d24702fc",
   "metadata": {},
   "outputs": [
    {
     "name": "stdout",
     "output_type": "stream",
     "text": [
      "[[6 0]\n",
      " [0 2]]\n"
     ]
    }
   ],
   "source": [
    "print(cm_test)"
   ]
  },
  {
   "cell_type": "code",
   "execution_count": 159,
   "id": "e3844f78-2988-4bb4-9e01-3dc05697778b",
   "metadata": {},
   "outputs": [
    {
     "name": "stdout",
     "output_type": "stream",
     "text": [
      "              precision    recall  f1-score   support\n",
      "\n",
      "         RSP       1.00      1.00      1.00         6\n",
      "         pro       1.00      1.00      1.00         2\n",
      "\n",
      "    accuracy                           1.00         8\n",
      "   macro avg       1.00      1.00      1.00         8\n",
      "weighted avg       1.00      1.00      1.00         8\n",
      "\n"
     ]
    }
   ],
   "source": [
    "print( classification_report(y_test_logis, y_pred_test_logis, target_names = ['RSP' , 'pro']))"
   ]
  },
  {
   "cell_type": "code",
   "execution_count": 160,
   "id": "f75db2b5-fb21-4566-a24c-cf1bb3a972c9",
   "metadata": {},
   "outputs": [],
   "source": [
    "y_pred_test_logis_prob = LogReg_clf.predict_proba(X_test_logis)"
   ]
  },
  {
   "cell_type": "code",
   "execution_count": 161,
   "id": "306d2ffc-d97c-41f8-9b43-2d17f53ba2ba",
   "metadata": {},
   "outputs": [
    {
     "data": {
      "text/plain": [
       "array([[0.82283417, 0.17716583],\n",
       "       [0.76636666, 0.23363334],\n",
       "       [0.7258964 , 0.2741036 ],\n",
       "       [0.44498142, 0.55501858],\n",
       "       [0.49380123, 0.50619877],\n",
       "       [0.84964778, 0.15035222],\n",
       "       [0.85744875, 0.14255125],\n",
       "       [0.86281199, 0.13718801]])"
      ]
     },
     "execution_count": 161,
     "metadata": {},
     "output_type": "execute_result"
    }
   ],
   "source": [
    "y_pred_test_logis_prob"
   ]
  },
  {
   "cell_type": "code",
   "execution_count": 162,
   "id": "c2fdb479-e6e2-45cf-8f8c-af36895f830d",
   "metadata": {},
   "outputs": [
    {
     "data": {
      "text/html": [
       "<div>\n",
       "<style scoped>\n",
       "    .dataframe tbody tr th:only-of-type {\n",
       "        vertical-align: middle;\n",
       "    }\n",
       "\n",
       "    .dataframe tbody tr th {\n",
       "        vertical-align: top;\n",
       "    }\n",
       "\n",
       "    .dataframe thead th {\n",
       "        text-align: right;\n",
       "    }\n",
       "</style>\n",
       "<table border=\"1\" class=\"dataframe\">\n",
       "  <thead>\n",
       "    <tr style=\"text-align: right;\">\n",
       "      <th></th>\n",
       "      <th>date</th>\n",
       "      <th>year</th>\n",
       "      <th>month</th>\n",
       "      <th>week_of_year</th>\n",
       "      <th>sales_in</th>\n",
       "      <th>stores</th>\n",
       "      <th>offtake</th>\n",
       "      <th>pro_class</th>\n",
       "      <th>opt_clf_tree_test</th>\n",
       "      <th>y_pred_test_logis</th>\n",
       "    </tr>\n",
       "  </thead>\n",
       "  <tbody>\n",
       "    <tr>\n",
       "      <th>0</th>\n",
       "      <td>2022-10-03</td>\n",
       "      <td>2022</td>\n",
       "      <td>10</td>\n",
       "      <td>40</td>\n",
       "      <td>124</td>\n",
       "      <td>7159</td>\n",
       "      <td>6.66</td>\n",
       "      <td>0</td>\n",
       "      <td>0</td>\n",
       "      <td>0</td>\n",
       "    </tr>\n",
       "    <tr>\n",
       "      <th>1</th>\n",
       "      <td>2022-10-10</td>\n",
       "      <td>2022</td>\n",
       "      <td>10</td>\n",
       "      <td>41</td>\n",
       "      <td>2068</td>\n",
       "      <td>7478</td>\n",
       "      <td>7.05</td>\n",
       "      <td>0</td>\n",
       "      <td>0</td>\n",
       "      <td>0</td>\n",
       "    </tr>\n",
       "    <tr>\n",
       "      <th>2</th>\n",
       "      <td>2022-10-17</td>\n",
       "      <td>2022</td>\n",
       "      <td>10</td>\n",
       "      <td>42</td>\n",
       "      <td>465</td>\n",
       "      <td>11451</td>\n",
       "      <td>7.29</td>\n",
       "      <td>0</td>\n",
       "      <td>0</td>\n",
       "      <td>0</td>\n",
       "    </tr>\n",
       "    <tr>\n",
       "      <th>3</th>\n",
       "      <td>2022-10-24</td>\n",
       "      <td>2022</td>\n",
       "      <td>10</td>\n",
       "      <td>43</td>\n",
       "      <td>0</td>\n",
       "      <td>11835</td>\n",
       "      <td>8.63</td>\n",
       "      <td>1</td>\n",
       "      <td>0</td>\n",
       "      <td>1</td>\n",
       "    </tr>\n",
       "    <tr>\n",
       "      <th>4</th>\n",
       "      <td>2022-10-31</td>\n",
       "      <td>2022</td>\n",
       "      <td>10</td>\n",
       "      <td>44</td>\n",
       "      <td>0</td>\n",
       "      <td>11733</td>\n",
       "      <td>8.41</td>\n",
       "      <td>1</td>\n",
       "      <td>0</td>\n",
       "      <td>1</td>\n",
       "    </tr>\n",
       "    <tr>\n",
       "      <th>5</th>\n",
       "      <td>2022-11-07</td>\n",
       "      <td>2022</td>\n",
       "      <td>11</td>\n",
       "      <td>45</td>\n",
       "      <td>71</td>\n",
       "      <td>10994</td>\n",
       "      <td>6.44</td>\n",
       "      <td>0</td>\n",
       "      <td>0</td>\n",
       "      <td>0</td>\n",
       "    </tr>\n",
       "    <tr>\n",
       "      <th>6</th>\n",
       "      <td>2022-11-14</td>\n",
       "      <td>2022</td>\n",
       "      <td>11</td>\n",
       "      <td>46</td>\n",
       "      <td>214</td>\n",
       "      <td>10962</td>\n",
       "      <td>6.37</td>\n",
       "      <td>0</td>\n",
       "      <td>0</td>\n",
       "      <td>0</td>\n",
       "    </tr>\n",
       "    <tr>\n",
       "      <th>7</th>\n",
       "      <td>2022-11-21</td>\n",
       "      <td>2022</td>\n",
       "      <td>11</td>\n",
       "      <td>47</td>\n",
       "      <td>477</td>\n",
       "      <td>10581</td>\n",
       "      <td>6.32</td>\n",
       "      <td>0</td>\n",
       "      <td>0</td>\n",
       "      <td>0</td>\n",
       "    </tr>\n",
       "  </tbody>\n",
       "</table>\n",
       "</div>"
      ],
      "text/plain": [
       "        date  year  month  week_of_year  sales_in  stores  offtake  pro_class  \\\n",
       "0 2022-10-03  2022     10            40       124    7159     6.66          0   \n",
       "1 2022-10-10  2022     10            41      2068    7478     7.05          0   \n",
       "2 2022-10-17  2022     10            42       465   11451     7.29          0   \n",
       "3 2022-10-24  2022     10            43         0   11835     8.63          1   \n",
       "4 2022-10-31  2022     10            44         0   11733     8.41          1   \n",
       "5 2022-11-07  2022     11            45        71   10994     6.44          0   \n",
       "6 2022-11-14  2022     11            46       214   10962     6.37          0   \n",
       "7 2022-11-21  2022     11            47       477   10581     6.32          0   \n",
       "\n",
       "   opt_clf_tree_test  y_pred_test_logis  \n",
       "0                  0                  0  \n",
       "1                  0                  0  \n",
       "2                  0                  0  \n",
       "3                  0                  1  \n",
       "4                  0                  1  \n",
       "5                  0                  0  \n",
       "6                  0                  0  \n",
       "7                  0                  0  "
      ]
     },
     "execution_count": 162,
     "metadata": {},
     "output_type": "execute_result"
    }
   ],
   "source": [
    "df_test"
   ]
  },
  {
   "cell_type": "code",
   "execution_count": 163,
   "id": "add5ca0b-4f57-4cb4-9db0-7b87375f4f7d",
   "metadata": {},
   "outputs": [
    {
     "data": {
      "text/plain": [
       "<AxesSubplot: xlabel='date', ylabel='offtake'>"
      ]
     },
     "execution_count": 163,
     "metadata": {},
     "output_type": "execute_result"
    },
    {
     "data": {
      "image/png": "[encoded data removed]",
      "text/plain": [
       "<Figure size 2000x200 with 1 Axes>"
      ]
     },
     "metadata": {},
     "output_type": "display_data"
    }
   ],
   "source": [
    "plt.figure(figsize=(20, 2))\n",
    "sns.lineplot(data=df_test, x=\"date\", y=\"offtake\", marker='o', linestyle='',hue=\"pro_class\")"
   ]
  },
  {
   "cell_type": "code",
   "execution_count": 164,
   "id": "7398e755-9c4d-4fa4-acbb-4918b6044b43",
   "metadata": {},
   "outputs": [
    {
     "data": {
      "text/plain": [
       "<AxesSubplot: xlabel='date', ylabel='offtake'>"
      ]
     },
     "execution_count": 164,
     "metadata": {},
     "output_type": "execute_result"
    },
    {
     "data": {
      "image/png": "[encoded data removed]",
      "text/plain": [
       "<Figure size 2000x200 with 1 Axes>"
      ]
     },
     "metadata": {},
     "output_type": "display_data"
    }
   ],
   "source": [
    "plt.figure(figsize=(20, 2))\n",
    "sns.lineplot(data=df_test, x=\"date\", y=\"offtake\", marker='o', linestyle='',hue=\"y_pred_test_logis\")"
   ]
  },
  {
   "cell_type": "code",
   "execution_count": 165,
   "id": "9f06c740-7fdb-4aad-9434-096510cfd8c6",
   "metadata": {},
   "outputs": [],
   "source": [
    "fpr, tpr, _ = roc_curve(y_test, y_pred_test_logis_prob[:,1])"
   ]
  },
  {
   "cell_type": "code",
   "execution_count": 166,
   "id": "ec8133b2-9b6a-441d-9b97-b39075b30183",
   "metadata": {},
   "outputs": [
    {
     "data": {
      "image/png": "[encoded data removed]",
      "text/plain": [
       "<Figure size 640x480 with 1 Axes>"
      ]
     },
     "metadata": {},
     "output_type": "display_data"
    }
   ],
   "source": [
    "plt.clf()\n",
    "plt.plot(fpr, tpr)\n",
    "plt.xlabel('FPR')\n",
    "plt.ylabel('TPR')\n",
    "plt.title('ROC curve')\n",
    "plt.show()"
   ]
  },
  {
   "cell_type": "code",
   "execution_count": null,
   "id": "e2b2a17e-5ee3-4518-ac99-e9b3126d2375",
   "metadata": {},
   "outputs": [],
   "source": []
  }
 ],
 "metadata": {
  "kernelspec": {
   "display_name": "Python 3 (ipykernel)",
   "language": "python",
   "name": "python3"
  },
  "language_info": {
   "codemirror_mode": {
    "name": "ipython",
    "version": 3
   },
   "file_extension": ".py",
   "mimetype": "text/x-python",
   "name": "python",
   "nbconvert_exporter": "python",
   "pygments_lexer": "ipython3",
   "version": "3.9.15"
  }
 },
 "nbformat": 4,
 "nbformat_minor": 5
}
